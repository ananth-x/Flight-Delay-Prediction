{
  "nbformat": 4,
  "nbformat_minor": 0,
  "metadata": {
    "colab": {
      "provenance": []
    },
    "kernelspec": {
      "name": "python3",
      "display_name": "Python 3"
    },
    "language_info": {
      "name": "python"
    }
  },
  "cells": [
    {
      "cell_type": "code",
      "execution_count": null,
      "metadata": {
        "colab": {
          "base_uri": "https://localhost:8080/"
        },
        "id": "_UOtUdL4bBdE",
        "outputId": "72e45b80-2340-47b3-961a-08aa90d3c7b4"
      },
      "outputs": [
        {
          "output_type": "stream",
          "name": "stdout",
          "text": [
            "Mounted at /content/drive\n"
          ]
        }
      ],
      "source": [
        "from google.colab import drive\n",
        "drive.mount('/content/drive',force_remount=True)\n",
        "# Pre-requisites\n",
        "import pandas as pd\n",
        "import numpy as np\n",
        "import matplotlib.pyplot as plt\n",
        "# Preprocessing\n",
        "from sklearn.preprocessing import LabelEncoder\n",
        "from sklearn.model_selection import train_test_split\n",
        "# Classifiers from scikit-learn\n",
        "from sklearn.linear_model import LinearRegression\n",
        "from sklearn.tree import DecisionTreeRegressor\n",
        "from sklearn.ensemble import RandomForestRegressor\n",
        "from sklearn.ensemble import ExtraTreesRegressor\n",
        "from sklearn.ensemble import GradientBoostingRegressor\n",
        "# Performance metrics\n",
        "from sklearn.metrics import mean_squared_error\n",
        "from sklearn.metrics import mean_absolute_error\n",
        "from sklearn.metrics import r2_score"
      ]
    },
    {
      "cell_type": "code",
      "source": [
        "df = pd.read_csv(\"/content/drive/MyDrive/Data/flight_and_weather.csv\", index_col=0)\n",
        "print(df.shape)\n",
        "df.info()"
      ],
      "metadata": {
        "colab": {
          "base_uri": "https://localhost:8080/"
        },
        "id": "FUVzBfJYbNoO",
        "outputId": "2113c632-1843-4a69-f0e0-bfe4f04fa0cf"
      },
      "execution_count": null,
      "outputs": [
        {
          "output_type": "stream",
          "name": "stdout",
          "text": [
            "(1851436, 33)\n",
            "<class 'pandas.core.frame.DataFrame'>\n",
            "Int64Index: 1851436 entries, 0 to 1851435\n",
            "Data columns (total 33 columns):\n",
            " #   Column           Dtype  \n",
            "---  ------           -----  \n",
            " 0   Year             int64  \n",
            " 1   Quarter          int64  \n",
            " 2   Month            int64  \n",
            " 3   DayofMonth       int64  \n",
            " 4   FlightDate       object \n",
            " 5   OriginAirportID  int64  \n",
            " 6   Origin           object \n",
            " 7   DestAirportID    int64  \n",
            " 8   Dest             object \n",
            " 9   CRSDepTime       int64  \n",
            " 10  DepTime          float64\n",
            " 11  DepDelayMinutes  float64\n",
            " 12  DepDel15         float64\n",
            " 13  CRSArrTime       int64  \n",
            " 14  ArrTime          float64\n",
            " 15  ArrDelayMinutes  float64\n",
            " 16  ArrDel15         float64\n",
            " 17  Time_new         int64  \n",
            " 18  windspeedKmph    int64  \n",
            " 19  winddirDegree    int64  \n",
            " 20  weatherCode      int64  \n",
            " 21  precipMM         float64\n",
            " 22  visibility       int64  \n",
            " 23  pressure         int64  \n",
            " 24  cloudcover       int64  \n",
            " 25  DewPointF        int64  \n",
            " 26  WindGustKmph     int64  \n",
            " 27  tempF            int64  \n",
            " 28  WindChillF       int64  \n",
            " 29  humidity         int64  \n",
            " 30  date             object \n",
            " 31  time             int64  \n",
            " 32  airport          object \n",
            "dtypes: float64(7), int64(21), object(5)\n",
            "memory usage: 480.3+ MB\n"
          ]
        }
      ]
    },
    {
      "cell_type": "code",
      "source": [
        "# Dropping columns with redundant or duplicate data\n",
        "df.drop(columns=[\"FlightDate\",\n",
        "                 \"OriginAirportID\",\n",
        "                 \"DestAirportID\",\n",
        "                 \"CRSArrTime\",\n",
        "                 \"ArrTime\",\n",
        "                 \"ArrDel15\",\n",
        "                 \"Time_new\",\n",
        "                 \"date\",\n",
        "                 \"airport\"],\n",
        "        inplace=True)\n",
        "print(df.shape)\n",
        "print(df.info())"
      ],
      "metadata": {
        "colab": {
          "base_uri": "https://localhost:8080/"
        },
        "id": "dHUEp59Pbohz",
        "outputId": "b26f04cb-6035-4fe8-ea7e-bf72b2041a5f"
      },
      "execution_count": null,
      "outputs": [
        {
          "output_type": "stream",
          "name": "stdout",
          "text": [
            "(1851436, 24)\n",
            "<class 'pandas.core.frame.DataFrame'>\n",
            "Int64Index: 1851436 entries, 0 to 1851435\n",
            "Data columns (total 24 columns):\n",
            " #   Column           Dtype  \n",
            "---  ------           -----  \n",
            " 0   Year             int64  \n",
            " 1   Quarter          int64  \n",
            " 2   Month            int64  \n",
            " 3   DayofMonth       int64  \n",
            " 4   Origin           object \n",
            " 5   Dest             object \n",
            " 6   CRSDepTime       int64  \n",
            " 7   DepTime          float64\n",
            " 8   DepDelayMinutes  float64\n",
            " 9   DepDel15         float64\n",
            " 10  ArrDelayMinutes  float64\n",
            " 11  windspeedKmph    int64  \n",
            " 12  winddirDegree    int64  \n",
            " 13  weatherCode      int64  \n",
            " 14  precipMM         float64\n",
            " 15  visibility       int64  \n",
            " 16  pressure         int64  \n",
            " 17  cloudcover       int64  \n",
            " 18  DewPointF        int64  \n",
            " 19  WindGustKmph     int64  \n",
            " 20  tempF            int64  \n",
            " 21  WindChillF       int64  \n",
            " 22  humidity         int64  \n",
            " 23  time             int64  \n",
            "dtypes: float64(5), int64(17), object(2)\n",
            "memory usage: 353.1+ MB\n",
            "None\n"
          ]
        }
      ]
    },
    {
      "cell_type": "code",
      "source": [
        "labelEncoder = LabelEncoder()\n",
        "df[\"Origin\"] = labelEncoder.fit_transform(df[\"Origin\"])\n",
        "df[\"Dest\"] = labelEncoder.fit_transform(df[\"Dest\"])\n",
        "# Only need the observations where the flight is delayed\n",
        "# df = df[df[\"ArrDelayMinutes\"] > 0]\n",
        "# df.reset_index(inplace=True, drop=True)\n",
        "# print(df.columns)\n",
        "# print(df.shape)\n",
        "features = df.loc[:, df.columns != \"ArrDelayMinutes\"]\n",
        "labels = np.asarray(df[\"ArrDelayMinutes\"])"
      ],
      "metadata": {
        "id": "w7_hBCzVdufX"
      },
      "execution_count": null,
      "outputs": []
    },
    {
      "cell_type": "code",
      "source": [
        "# Number of samples/observations/rows is greater than 100,000\n",
        "print(f\"\\nDataset shape: {df.shape}\")\n",
        "features_train, features_test, labels_train, labels_test = train_test_split(features, labels, test_size=0.20, random_state=42)\n",
        "print(f\"features_train shape: {features_train.shape} | features_test shape: {features_test.shape}\")\n",
        "print(f\"labels_train shape: {labels_train.shape} | labels_test shape: {labels_test.shape}\")\n",
        "# print(f\"{features_train.shape[1]} Features: {features_train.columns.to_list()}\")\n",
        "del df"
      ],
      "metadata": {
        "colab": {
          "base_uri": "https://localhost:8080/"
        },
        "id": "v7_pD9Iad5Zv",
        "outputId": "10df3af5-9091-46a7-bba0-bbd257f90845"
      },
      "execution_count": null,
      "outputs": [
        {
          "output_type": "stream",
          "name": "stdout",
          "text": [
            "\n",
            "Dataset shape: (1851436, 24)\n",
            "features_train shape: (1481148, 23) | features_test shape: (370288, 23)\n",
            "labels_train shape: (1481148,) | labels_test shape: (370288,)\n"
          ]
        }
      ]
    },
    {
      "cell_type": "code",
      "source": [
        "perf_df = pd.DataFrame(columns=[\"Regressors\", \"MSE\", \"RMSE\", \"MAE\", \"R2\"])\n",
        "def print_metrics(labels_test, model_pred, regressor_name, perf_df):\n",
        "\n",
        "    mse = mean_squared_error(labels_test, model_pred)\n",
        "    rmse = np.sqrt(mse)\n",
        "    mae = mean_absolute_error(labels_test, model_pred)\n",
        "    r2 = r2_score(labels_test, model_pred)\n",
        "\n",
        "    print(f\"MSE      : {mse}\", end=\"\\n\\n\")\n",
        "    print(f\"RMSE     : {rmse}\", end=\"\\n\\n\")\n",
        "    print(f\"MAE      : {mae}\", end=\"\\n\\n\")\n",
        "    print(f\"R2 Score : {r2}\", end=\"\\n\\n\")\n",
        "\n",
        "    perf_df = perf_df.append({\"Regressors\": regressor_name,\n",
        "                                        \"MSE\": mse,\n",
        "                                        \"RMSE\": rmse,\n",
        "                                        \"MAE\": mae,\n",
        "                                        \"R2\": r2}, ignore_index=True)\n",
        "    return perf_df"
      ],
      "metadata": {
        "id": "xAmQCGomd7J0"
      },
      "execution_count": null,
      "outputs": []
    },
    {
      "cell_type": "markdown",
      "source": [
        "*Linear* Regression"
      ],
      "metadata": {
        "id": "ZdTDIJE3eAve"
      }
    },
    {
      "cell_type": "code",
      "source": [
        "model = LinearRegression(n_jobs=-1)\n",
        "model.fit(features_train, labels_train)\n",
        "model_pred = model.predict(features_test)\n",
        "perf_df = print_metrics(labels_test, model_pred, \"LinearRegression\", perf_df)\n",
        "del model\n",
        "del model_pred"
      ],
      "metadata": {
        "colab": {
          "base_uri": "https://localhost:8080/"
        },
        "id": "g9EBYEYDd9zR",
        "outputId": "650f26de-c41f-4158-bce1-bc7e9c35b7bc"
      },
      "execution_count": null,
      "outputs": [
        {
          "output_type": "stream",
          "name": "stdout",
          "text": [
            "MSE      : 114.63278034514948\n",
            "\n",
            "RMSE     : 10.70666989988715\n",
            "\n",
            "MAE      : 5.681653701909743\n",
            "\n",
            "R2 Score : 0.932584164103862\n",
            "\n"
          ]
        },
        {
          "output_type": "stream",
          "name": "stderr",
          "text": [
            "<ipython-input-37-ad2e2c90a5f9>:14: FutureWarning: The frame.append method is deprecated and will be removed from pandas in a future version. Use pandas.concat instead.\n",
            "  perf_df = perf_df.append({\"Regressors\": regressor_name,\n"
          ]
        }
      ]
    },
    {
      "cell_type": "markdown",
      "source": [
        "Decision Tree Regressor"
      ],
      "metadata": {
        "id": "m4FgfTgIeP6Y"
      }
    },
    {
      "cell_type": "code",
      "source": [
        "model = DecisionTreeRegressor()\n",
        "model.fit(features_train, labels_train)\n",
        "model_pred = model.predict(features_test)\n",
        "perf_df = print_metrics(labels_test, model_pred, \"DecisionTreeRegressor\", perf_df)\n",
        "del model\n",
        "del model_pred"
      ],
      "metadata": {
        "colab": {
          "base_uri": "https://localhost:8080/"
        },
        "id": "PXyTaQvYeB8U",
        "outputId": "c292a7c1-364d-41c2-b6de-edc05cc8812e"
      },
      "execution_count": null,
      "outputs": [
        {
          "output_type": "stream",
          "name": "stdout",
          "text": [
            "MSE      : 227.13479777902606\n",
            "\n",
            "RMSE     : 15.070991930826121\n",
            "\n",
            "MAE      : 7.296010132653502\n",
            "\n",
            "R2 Score : 0.8664214354108071\n",
            "\n"
          ]
        },
        {
          "output_type": "stream",
          "name": "stderr",
          "text": [
            "<ipython-input-37-ad2e2c90a5f9>:14: FutureWarning: The frame.append method is deprecated and will be removed from pandas in a future version. Use pandas.concat instead.\n",
            "  perf_df = perf_df.append({\"Regressors\": regressor_name,\n"
          ]
        }
      ]
    },
    {
      "cell_type": "markdown",
      "source": [
        "Random Forest"
      ],
      "metadata": {
        "id": "EeTCX27mepp4"
      }
    },
    {
      "cell_type": "code",
      "source": [
        "model = RandomForestRegressor(n_jobs=-1)\n",
        "model.fit(features_train, labels_train)\n",
        "model_pred = model.predict(features_test)\n",
        "perf_df = print_metrics(labels_test, model_pred, \"RandomForestRegressor\", perf_df)\n",
        "del model\n",
        "del model_pred"
      ],
      "metadata": {
        "colab": {
          "base_uri": "https://localhost:8080/"
        },
        "id": "ahiuPigdeiOm",
        "outputId": "b94e20c1-71da-4109-8240-0b5b352cdf94"
      },
      "execution_count": null,
      "outputs": [
        {
          "output_type": "stream",
          "name": "stdout",
          "text": [
            "MSE      : 227.49311145277014\n",
            "\n",
            "RMSE     : 15.082874774152643\n",
            "\n",
            "MAE      : 10.405916738390292\n",
            "\n",
            "R2 Score : 0.93681610627977\n",
            "\n"
          ]
        },
        {
          "output_type": "stream",
          "name": "stderr",
          "text": [
            "<ipython-input-13-ad2e2c90a5f9>:14: FutureWarning: The frame.append method is deprecated and will be removed from pandas in a future version. Use pandas.concat instead.\n",
            "  perf_df = perf_df.append({\"Regressors\": regressor_name,\n"
          ]
        }
      ]
    },
    {
      "cell_type": "markdown",
      "source": [
        "XGBoost"
      ],
      "metadata": {
        "id": "6YsnWWnrezqQ"
      }
    },
    {
      "cell_type": "code",
      "source": [
        "model = GradientBoostingRegressor()\n",
        "model.fit(features_train, labels_train)\n",
        "model_pred = model.predict(features_test)\n",
        "perf_df = print_metrics(labels_test, model_pred, \"GradientBoostingRegressor\", perf_df)\n",
        "del model\n",
        "del model_pred"
      ],
      "metadata": {
        "colab": {
          "base_uri": "https://localhost:8080/"
        },
        "id": "gWTKLVlQetag",
        "outputId": "7b8ef8cc-5c6c-49aa-b31d-3ea3b5e3a83c"
      },
      "execution_count": null,
      "outputs": [
        {
          "output_type": "stream",
          "name": "stdout",
          "text": [
            "MSE      : 230.8549422166322\n",
            "\n",
            "RMSE     : 15.193911353454455\n",
            "\n",
            "MAE      : 10.331746623039692\n",
            "\n",
            "R2 Score : 0.9358823920396648\n",
            "\n"
          ]
        },
        {
          "output_type": "stream",
          "name": "stderr",
          "text": [
            "<ipython-input-13-ad2e2c90a5f9>:14: FutureWarning: The frame.append method is deprecated and will be removed from pandas in a future version. Use pandas.concat instead.\n",
            "  perf_df = perf_df.append({\"Regressors\": regressor_name,\n"
          ]
        }
      ]
    },
    {
      "cell_type": "markdown",
      "source": [
        "Extra Trees Regressor"
      ],
      "metadata": {
        "id": "xhDyRyAve8iH"
      }
    },
    {
      "cell_type": "code",
      "source": [
        "model = ExtraTreesRegressor(n_jobs=-1)\n",
        "model.fit(features_train, labels_train)\n",
        "model_pred = model.predict(features_test)\n",
        "perf_df = print_metrics(labels_test, model_pred, \"ExtraTreesRegressor\", perf_df)"
      ],
      "metadata": {
        "colab": {
          "base_uri": "https://localhost:8080/"
        },
        "id": "jjokRJe9e86P",
        "outputId": "c2d73f9c-98c2-4e0a-8955-e99449b65c22"
      },
      "execution_count": null,
      "outputs": [
        {
          "output_type": "stream",
          "name": "stdout",
          "text": [
            "MSE      : 225.07760312922798\n",
            "\n",
            "RMSE     : 15.002586547966587\n",
            "\n",
            "MAE      : 10.328728441830325\n",
            "\n",
            "R2 Score : 0.9357704320642302\n",
            "\n"
          ]
        },
        {
          "output_type": "stream",
          "name": "stderr",
          "text": [
            "<ipython-input-7-bddba039b782>:14: FutureWarning: The frame.append method is deprecated and will be removed from pandas in a future version. Use pandas.concat instead.\n",
            "  perf_df = perf_df.append({\"Regressors\": regressor_name,\n"
          ]
        }
      ]
    },
    {
      "cell_type": "code",
      "source": [],
      "metadata": {
        "id": "yqZ2khERgXKL"
      },
      "execution_count": null,
      "outputs": []
    }
  ]
}