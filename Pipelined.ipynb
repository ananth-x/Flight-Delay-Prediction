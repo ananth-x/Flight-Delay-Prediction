{
  "cells": [
    {
      "cell_type": "code",
      "execution_count": null,
      "metadata": {
        "colab": {
          "base_uri": "https://localhost:8080/"
        },
        "id": "q-KCd9gkZz2u",
        "outputId": "9fc8d77f-e497-4282-d88e-cbd008fe8dd8"
      },
      "outputs": [
        {
          "output_type": "stream",
          "name": "stdout",
          "text": [
            "Mounted at /content/drive\n"
          ]
        }
      ],
      "source": [
        "import pandas as pd\n",
        "import numpy as np\n",
        "import matplotlib\n",
        "import matplotlib.pyplot as plt\n",
        "import seaborn as sns\n",
        "from sklearn.preprocessing import LabelEncoder\n",
        "from sklearn.model_selection import train_test_split\n",
        "from sklearn.metrics import accuracy_score\n",
        "from sklearn.metrics import f1_score\n",
        "from sklearn.metrics import precision_score\n",
        "from sklearn.metrics import recall_score\n",
        "from sklearn.metrics import classification_report\n",
        "from sklearn.metrics import confusion_matrix\n",
        "from sklearn.ensemble import RandomForestClassifier\n",
        "from sklearn.ensemble import RandomForestRegressor\n",
        "import joblib\n",
        "from google.colab import drive\n",
        "drive.mount('/content/drive',force_remount=True)\n",
        "from sklearn.metrics import mean_squared_error\n",
        "from sklearn.metrics import mean_absolute_error\n",
        "from sklearn.metrics import r2_score"
      ]
    },
    {
      "cell_type": "code",
      "execution_count": null,
      "metadata": {
        "colab": {
          "base_uri": "https://localhost:8080/"
        },
        "id": "xLmUkUgSa5hS",
        "outputId": "ea15a651-93aa-41b2-fe71-2d5afa02ef04"
      },
      "outputs": [
        {
          "output_type": "stream",
          "name": "stdout",
          "text": [
            "\n",
            "Before Encoding Shape: (1851436, 33)\n",
            "\n",
            "\n",
            "After Encoding Shape: (1851436, 25)\n",
            "\n"
          ]
        }
      ],
      "source": [
        "\n",
        "df = pd.read_csv(\"/content/drive/MyDrive/Data/flight_and_weather.csv\", index_col=0)\n",
        "print(f\"\\nBefore Encoding Shape: {df.shape}\", end=\"\\n\\n\")\n",
        "# print(df.info())\n",
        "# Dropping columns with redundant or duplicate data\n",
        "df.drop(columns=[\"FlightDate\",\n",
        "                 \"OriginAirportID\",\n",
        "                 \"DestAirportID\",\n",
        "                 \"CRSArrTime\",\n",
        "                 \"ArrTime\",\n",
        "                 \"Time_new\",\n",
        "                 \"date\",\n",
        "                 \"airport\"],\n",
        "\n",
        "        inplace=True)\n",
        "# print(df.info())\n",
        "labelEncoder = LabelEncoder()\n",
        "df[\"Origin\"] = labelEncoder.fit_transform(df[\"Origin\"])\n",
        "df[\"Dest\"] = labelEncoder.fit_transform(df[\"Dest\"])\n",
        "print(f\"\\nAfter Encoding Shape: {df.shape}\", end=\"\\n\\n\")\n",
        "df[[\"Origin\", \"Dest\"]]\n",
        "df.to_csv(\"/content/drive/MyDrive/Data/flight_and_weather_encoded_pipe_line.csv\");"
      ]
    },
    {
      "cell_type": "code",
      "execution_count": null,
      "metadata": {
        "colab": {
          "base_uri": "https://localhost:8080/",
          "height": 424
        },
        "id": "NKY15rxpbY5x",
        "outputId": "bbc42b66-6fa1-462b-a5bd-b859576b93e2"
      },
      "outputs": [
        {
          "output_type": "execute_result",
          "data": {
            "text/plain": [
              "         Year  Quarter  Month  DayofMonth  Origin  Dest  CRSDepTime  DepTime  \\\n",
              "0        2016        1      1           1      13     6         745    741.0   \n",
              "1        2016        1      1           1      13    12         820    821.0   \n",
              "2        2016        1      1           1      13     2         759    754.0   \n",
              "3        2016        1      1           1      13     5         738    740.0   \n",
              "4        2016        1      1           1      13     0         745    742.0   \n",
              "...       ...      ...    ...         ...     ...   ...         ...      ...   \n",
              "1851431  2017        2      5           4      12     8        2115   2112.0   \n",
              "1851432  2017        2      5           4      12    13        2040   2040.0   \n",
              "1851433  2017        2      5           4      12    14        2040   2039.0   \n",
              "1851434  2017        2      5           6       2    14        2035   2030.0   \n",
              "1851435  2017        2      5           6      14     8        1845   2007.0   \n",
              "\n",
              "         DepDelayMinutes  DepDel15  ...  precipMM  visibility  pressure  \\\n",
              "0                    0.0       0.0  ...       0.0          10      1030   \n",
              "1                    1.0       0.0  ...       0.0          10      1030   \n",
              "2                    0.0       0.0  ...       0.0          10      1030   \n",
              "3                    2.0       0.0  ...       0.0          10      1030   \n",
              "4                    0.0       0.0  ...       0.0          10      1030   \n",
              "...                  ...       ...  ...       ...         ...       ...   \n",
              "1851431              0.0       0.0  ...       0.0          10      1009   \n",
              "1851432              0.0       0.0  ...       0.0          10      1009   \n",
              "1851433              0.0       0.0  ...       0.0          10      1009   \n",
              "1851434              0.0       0.0  ...       0.1          10      1006   \n",
              "1851435             82.0       1.0  ...       0.0          10      1009   \n",
              "\n",
              "         cloudcover  DewPointF  WindGustKmph  tempF  WindChillF  humidity  \\\n",
              "0                 0         23             8     34          29        65   \n",
              "1                 0         23             8     34          29        65   \n",
              "2                 0         23             8     34          29        65   \n",
              "3                 0         23             8     34          29        65   \n",
              "4                 0         23             8     34          29        65   \n",
              "...             ...        ...           ...    ...         ...       ...   \n",
              "1851431           0         27            17     95          95        11   \n",
              "1851432           0         27            17     95          95        11   \n",
              "1851433           0         27            17     95          95        11   \n",
              "1851434           9         39            39     72          72        40   \n",
              "1851435           7         44            32     57          59        58   \n",
              "\n",
              "         time  \n",
              "0         800  \n",
              "1         800  \n",
              "2         800  \n",
              "3         800  \n",
              "4         800  \n",
              "...       ...  \n",
              "1851431  2100  \n",
              "1851432  2100  \n",
              "1851433  2100  \n",
              "1851434  2100  \n",
              "1851435  1900  \n",
              "\n",
              "[1851436 rows x 25 columns]"
            ],
            "text/html": [
              "\n",
              "  <div id=\"df-0d300f46-1673-417e-8508-df1969b58f15\" class=\"colab-df-container\">\n",
              "    <div>\n",
              "<style scoped>\n",
              "    .dataframe tbody tr th:only-of-type {\n",
              "        vertical-align: middle;\n",
              "    }\n",
              "\n",
              "    .dataframe tbody tr th {\n",
              "        vertical-align: top;\n",
              "    }\n",
              "\n",
              "    .dataframe thead th {\n",
              "        text-align: right;\n",
              "    }\n",
              "</style>\n",
              "<table border=\"1\" class=\"dataframe\">\n",
              "  <thead>\n",
              "    <tr style=\"text-align: right;\">\n",
              "      <th></th>\n",
              "      <th>Year</th>\n",
              "      <th>Quarter</th>\n",
              "      <th>Month</th>\n",
              "      <th>DayofMonth</th>\n",
              "      <th>Origin</th>\n",
              "      <th>Dest</th>\n",
              "      <th>CRSDepTime</th>\n",
              "      <th>DepTime</th>\n",
              "      <th>DepDelayMinutes</th>\n",
              "      <th>DepDel15</th>\n",
              "      <th>...</th>\n",
              "      <th>precipMM</th>\n",
              "      <th>visibility</th>\n",
              "      <th>pressure</th>\n",
              "      <th>cloudcover</th>\n",
              "      <th>DewPointF</th>\n",
              "      <th>WindGustKmph</th>\n",
              "      <th>tempF</th>\n",
              "      <th>WindChillF</th>\n",
              "      <th>humidity</th>\n",
              "      <th>time</th>\n",
              "    </tr>\n",
              "  </thead>\n",
              "  <tbody>\n",
              "    <tr>\n",
              "      <th>0</th>\n",
              "      <td>2016</td>\n",
              "      <td>1</td>\n",
              "      <td>1</td>\n",
              "      <td>1</td>\n",
              "      <td>13</td>\n",
              "      <td>6</td>\n",
              "      <td>745</td>\n",
              "      <td>741.0</td>\n",
              "      <td>0.0</td>\n",
              "      <td>0.0</td>\n",
              "      <td>...</td>\n",
              "      <td>0.0</td>\n",
              "      <td>10</td>\n",
              "      <td>1030</td>\n",
              "      <td>0</td>\n",
              "      <td>23</td>\n",
              "      <td>8</td>\n",
              "      <td>34</td>\n",
              "      <td>29</td>\n",
              "      <td>65</td>\n",
              "      <td>800</td>\n",
              "    </tr>\n",
              "    <tr>\n",
              "      <th>1</th>\n",
              "      <td>2016</td>\n",
              "      <td>1</td>\n",
              "      <td>1</td>\n",
              "      <td>1</td>\n",
              "      <td>13</td>\n",
              "      <td>12</td>\n",
              "      <td>820</td>\n",
              "      <td>821.0</td>\n",
              "      <td>1.0</td>\n",
              "      <td>0.0</td>\n",
              "      <td>...</td>\n",
              "      <td>0.0</td>\n",
              "      <td>10</td>\n",
              "      <td>1030</td>\n",
              "      <td>0</td>\n",
              "      <td>23</td>\n",
              "      <td>8</td>\n",
              "      <td>34</td>\n",
              "      <td>29</td>\n",
              "      <td>65</td>\n",
              "      <td>800</td>\n",
              "    </tr>\n",
              "    <tr>\n",
              "      <th>2</th>\n",
              "      <td>2016</td>\n",
              "      <td>1</td>\n",
              "      <td>1</td>\n",
              "      <td>1</td>\n",
              "      <td>13</td>\n",
              "      <td>2</td>\n",
              "      <td>759</td>\n",
              "      <td>754.0</td>\n",
              "      <td>0.0</td>\n",
              "      <td>0.0</td>\n",
              "      <td>...</td>\n",
              "      <td>0.0</td>\n",
              "      <td>10</td>\n",
              "      <td>1030</td>\n",
              "      <td>0</td>\n",
              "      <td>23</td>\n",
              "      <td>8</td>\n",
              "      <td>34</td>\n",
              "      <td>29</td>\n",
              "      <td>65</td>\n",
              "      <td>800</td>\n",
              "    </tr>\n",
              "    <tr>\n",
              "      <th>3</th>\n",
              "      <td>2016</td>\n",
              "      <td>1</td>\n",
              "      <td>1</td>\n",
              "      <td>1</td>\n",
              "      <td>13</td>\n",
              "      <td>5</td>\n",
              "      <td>738</td>\n",
              "      <td>740.0</td>\n",
              "      <td>2.0</td>\n",
              "      <td>0.0</td>\n",
              "      <td>...</td>\n",
              "      <td>0.0</td>\n",
              "      <td>10</td>\n",
              "      <td>1030</td>\n",
              "      <td>0</td>\n",
              "      <td>23</td>\n",
              "      <td>8</td>\n",
              "      <td>34</td>\n",
              "      <td>29</td>\n",
              "      <td>65</td>\n",
              "      <td>800</td>\n",
              "    </tr>\n",
              "    <tr>\n",
              "      <th>4</th>\n",
              "      <td>2016</td>\n",
              "      <td>1</td>\n",
              "      <td>1</td>\n",
              "      <td>1</td>\n",
              "      <td>13</td>\n",
              "      <td>0</td>\n",
              "      <td>745</td>\n",
              "      <td>742.0</td>\n",
              "      <td>0.0</td>\n",
              "      <td>0.0</td>\n",
              "      <td>...</td>\n",
              "      <td>0.0</td>\n",
              "      <td>10</td>\n",
              "      <td>1030</td>\n",
              "      <td>0</td>\n",
              "      <td>23</td>\n",
              "      <td>8</td>\n",
              "      <td>34</td>\n",
              "      <td>29</td>\n",
              "      <td>65</td>\n",
              "      <td>800</td>\n",
              "    </tr>\n",
              "    <tr>\n",
              "      <th>...</th>\n",
              "      <td>...</td>\n",
              "      <td>...</td>\n",
              "      <td>...</td>\n",
              "      <td>...</td>\n",
              "      <td>...</td>\n",
              "      <td>...</td>\n",
              "      <td>...</td>\n",
              "      <td>...</td>\n",
              "      <td>...</td>\n",
              "      <td>...</td>\n",
              "      <td>...</td>\n",
              "      <td>...</td>\n",
              "      <td>...</td>\n",
              "      <td>...</td>\n",
              "      <td>...</td>\n",
              "      <td>...</td>\n",
              "      <td>...</td>\n",
              "      <td>...</td>\n",
              "      <td>...</td>\n",
              "      <td>...</td>\n",
              "      <td>...</td>\n",
              "    </tr>\n",
              "    <tr>\n",
              "      <th>1851431</th>\n",
              "      <td>2017</td>\n",
              "      <td>2</td>\n",
              "      <td>5</td>\n",
              "      <td>4</td>\n",
              "      <td>12</td>\n",
              "      <td>8</td>\n",
              "      <td>2115</td>\n",
              "      <td>2112.0</td>\n",
              "      <td>0.0</td>\n",
              "      <td>0.0</td>\n",
              "      <td>...</td>\n",
              "      <td>0.0</td>\n",
              "      <td>10</td>\n",
              "      <td>1009</td>\n",
              "      <td>0</td>\n",
              "      <td>27</td>\n",
              "      <td>17</td>\n",
              "      <td>95</td>\n",
              "      <td>95</td>\n",
              "      <td>11</td>\n",
              "      <td>2100</td>\n",
              "    </tr>\n",
              "    <tr>\n",
              "      <th>1851432</th>\n",
              "      <td>2017</td>\n",
              "      <td>2</td>\n",
              "      <td>5</td>\n",
              "      <td>4</td>\n",
              "      <td>12</td>\n",
              "      <td>13</td>\n",
              "      <td>2040</td>\n",
              "      <td>2040.0</td>\n",
              "      <td>0.0</td>\n",
              "      <td>0.0</td>\n",
              "      <td>...</td>\n",
              "      <td>0.0</td>\n",
              "      <td>10</td>\n",
              "      <td>1009</td>\n",
              "      <td>0</td>\n",
              "      <td>27</td>\n",
              "      <td>17</td>\n",
              "      <td>95</td>\n",
              "      <td>95</td>\n",
              "      <td>11</td>\n",
              "      <td>2100</td>\n",
              "    </tr>\n",
              "    <tr>\n",
              "      <th>1851433</th>\n",
              "      <td>2017</td>\n",
              "      <td>2</td>\n",
              "      <td>5</td>\n",
              "      <td>4</td>\n",
              "      <td>12</td>\n",
              "      <td>14</td>\n",
              "      <td>2040</td>\n",
              "      <td>2039.0</td>\n",
              "      <td>0.0</td>\n",
              "      <td>0.0</td>\n",
              "      <td>...</td>\n",
              "      <td>0.0</td>\n",
              "      <td>10</td>\n",
              "      <td>1009</td>\n",
              "      <td>0</td>\n",
              "      <td>27</td>\n",
              "      <td>17</td>\n",
              "      <td>95</td>\n",
              "      <td>95</td>\n",
              "      <td>11</td>\n",
              "      <td>2100</td>\n",
              "    </tr>\n",
              "    <tr>\n",
              "      <th>1851434</th>\n",
              "      <td>2017</td>\n",
              "      <td>2</td>\n",
              "      <td>5</td>\n",
              "      <td>6</td>\n",
              "      <td>2</td>\n",
              "      <td>14</td>\n",
              "      <td>2035</td>\n",
              "      <td>2030.0</td>\n",
              "      <td>0.0</td>\n",
              "      <td>0.0</td>\n",
              "      <td>...</td>\n",
              "      <td>0.1</td>\n",
              "      <td>10</td>\n",
              "      <td>1006</td>\n",
              "      <td>9</td>\n",
              "      <td>39</td>\n",
              "      <td>39</td>\n",
              "      <td>72</td>\n",
              "      <td>72</td>\n",
              "      <td>40</td>\n",
              "      <td>2100</td>\n",
              "    </tr>\n",
              "    <tr>\n",
              "      <th>1851435</th>\n",
              "      <td>2017</td>\n",
              "      <td>2</td>\n",
              "      <td>5</td>\n",
              "      <td>6</td>\n",
              "      <td>14</td>\n",
              "      <td>8</td>\n",
              "      <td>1845</td>\n",
              "      <td>2007.0</td>\n",
              "      <td>82.0</td>\n",
              "      <td>1.0</td>\n",
              "      <td>...</td>\n",
              "      <td>0.0</td>\n",
              "      <td>10</td>\n",
              "      <td>1009</td>\n",
              "      <td>7</td>\n",
              "      <td>44</td>\n",
              "      <td>32</td>\n",
              "      <td>57</td>\n",
              "      <td>59</td>\n",
              "      <td>58</td>\n",
              "      <td>1900</td>\n",
              "    </tr>\n",
              "  </tbody>\n",
              "</table>\n",
              "<p>1851436 rows × 25 columns</p>\n",
              "</div>\n",
              "    <div class=\"colab-df-buttons\">\n",
              "\n",
              "  <div class=\"colab-df-container\">\n",
              "    <button class=\"colab-df-convert\" onclick=\"convertToInteractive('df-0d300f46-1673-417e-8508-df1969b58f15')\"\n",
              "            title=\"Convert this dataframe to an interactive table.\"\n",
              "            style=\"display:none;\">\n",
              "\n",
              "  <svg xmlns=\"http://www.w3.org/2000/svg\" height=\"24px\" viewBox=\"0 -960 960 960\">\n",
              "    <path d=\"M120-120v-720h720v720H120Zm60-500h600v-160H180v160Zm220 220h160v-160H400v160Zm0 220h160v-160H400v160ZM180-400h160v-160H180v160Zm440 0h160v-160H620v160ZM180-180h160v-160H180v160Zm440 0h160v-160H620v160Z\"/>\n",
              "  </svg>\n",
              "    </button>\n",
              "\n",
              "  <style>\n",
              "    .colab-df-container {\n",
              "      display:flex;\n",
              "      gap: 12px;\n",
              "    }\n",
              "\n",
              "    .colab-df-convert {\n",
              "      background-color: #E8F0FE;\n",
              "      border: none;\n",
              "      border-radius: 50%;\n",
              "      cursor: pointer;\n",
              "      display: none;\n",
              "      fill: #1967D2;\n",
              "      height: 32px;\n",
              "      padding: 0 0 0 0;\n",
              "      width: 32px;\n",
              "    }\n",
              "\n",
              "    .colab-df-convert:hover {\n",
              "      background-color: #E2EBFA;\n",
              "      box-shadow: 0px 1px 2px rgba(60, 64, 67, 0.3), 0px 1px 3px 1px rgba(60, 64, 67, 0.15);\n",
              "      fill: #174EA6;\n",
              "    }\n",
              "\n",
              "    .colab-df-buttons div {\n",
              "      margin-bottom: 4px;\n",
              "    }\n",
              "\n",
              "    [theme=dark] .colab-df-convert {\n",
              "      background-color: #3B4455;\n",
              "      fill: #D2E3FC;\n",
              "    }\n",
              "\n",
              "    [theme=dark] .colab-df-convert:hover {\n",
              "      background-color: #434B5C;\n",
              "      box-shadow: 0px 1px 3px 1px rgba(0, 0, 0, 0.15);\n",
              "      filter: drop-shadow(0px 1px 2px rgba(0, 0, 0, 0.3));\n",
              "      fill: #FFFFFF;\n",
              "    }\n",
              "  </style>\n",
              "\n",
              "    <script>\n",
              "      const buttonEl =\n",
              "        document.querySelector('#df-0d300f46-1673-417e-8508-df1969b58f15 button.colab-df-convert');\n",
              "      buttonEl.style.display =\n",
              "        google.colab.kernel.accessAllowed ? 'block' : 'none';\n",
              "\n",
              "      async function convertToInteractive(key) {\n",
              "        const element = document.querySelector('#df-0d300f46-1673-417e-8508-df1969b58f15');\n",
              "        const dataTable =\n",
              "          await google.colab.kernel.invokeFunction('convertToInteractive',\n",
              "                                                    [key], {});\n",
              "        if (!dataTable) return;\n",
              "\n",
              "        const docLinkHtml = 'Like what you see? Visit the ' +\n",
              "          '<a target=\"_blank\" href=https://colab.research.google.com/notebooks/data_table.ipynb>data table notebook</a>'\n",
              "          + ' to learn more about interactive tables.';\n",
              "        element.innerHTML = '';\n",
              "        dataTable['output_type'] = 'display_data';\n",
              "        await google.colab.output.renderOutput(dataTable, element);\n",
              "        const docLink = document.createElement('div');\n",
              "        docLink.innerHTML = docLinkHtml;\n",
              "        element.appendChild(docLink);\n",
              "      }\n",
              "    </script>\n",
              "  </div>\n",
              "\n",
              "\n",
              "<div id=\"df-4402bfe4-9070-41cd-a6cb-631a909a1da6\">\n",
              "  <button class=\"colab-df-quickchart\" onclick=\"quickchart('df-4402bfe4-9070-41cd-a6cb-631a909a1da6')\"\n",
              "            title=\"Suggest charts\"\n",
              "            style=\"display:none;\">\n",
              "\n",
              "<svg xmlns=\"http://www.w3.org/2000/svg\" height=\"24px\"viewBox=\"0 0 24 24\"\n",
              "     width=\"24px\">\n",
              "    <g>\n",
              "        <path d=\"M19 3H5c-1.1 0-2 .9-2 2v14c0 1.1.9 2 2 2h14c1.1 0 2-.9 2-2V5c0-1.1-.9-2-2-2zM9 17H7v-7h2v7zm4 0h-2V7h2v10zm4 0h-2v-4h2v4z\"/>\n",
              "    </g>\n",
              "</svg>\n",
              "  </button>\n",
              "\n",
              "<style>\n",
              "  .colab-df-quickchart {\n",
              "      --bg-color: #E8F0FE;\n",
              "      --fill-color: #1967D2;\n",
              "      --hover-bg-color: #E2EBFA;\n",
              "      --hover-fill-color: #174EA6;\n",
              "      --disabled-fill-color: #AAA;\n",
              "      --disabled-bg-color: #DDD;\n",
              "  }\n",
              "\n",
              "  [theme=dark] .colab-df-quickchart {\n",
              "      --bg-color: #3B4455;\n",
              "      --fill-color: #D2E3FC;\n",
              "      --hover-bg-color: #434B5C;\n",
              "      --hover-fill-color: #FFFFFF;\n",
              "      --disabled-bg-color: #3B4455;\n",
              "      --disabled-fill-color: #666;\n",
              "  }\n",
              "\n",
              "  .colab-df-quickchart {\n",
              "    background-color: var(--bg-color);\n",
              "    border: none;\n",
              "    border-radius: 50%;\n",
              "    cursor: pointer;\n",
              "    display: none;\n",
              "    fill: var(--fill-color);\n",
              "    height: 32px;\n",
              "    padding: 0;\n",
              "    width: 32px;\n",
              "  }\n",
              "\n",
              "  .colab-df-quickchart:hover {\n",
              "    background-color: var(--hover-bg-color);\n",
              "    box-shadow: 0 1px 2px rgba(60, 64, 67, 0.3), 0 1px 3px 1px rgba(60, 64, 67, 0.15);\n",
              "    fill: var(--button-hover-fill-color);\n",
              "  }\n",
              "\n",
              "  .colab-df-quickchart-complete:disabled,\n",
              "  .colab-df-quickchart-complete:disabled:hover {\n",
              "    background-color: var(--disabled-bg-color);\n",
              "    fill: var(--disabled-fill-color);\n",
              "    box-shadow: none;\n",
              "  }\n",
              "\n",
              "  .colab-df-spinner {\n",
              "    border: 2px solid var(--fill-color);\n",
              "    border-color: transparent;\n",
              "    border-bottom-color: var(--fill-color);\n",
              "    animation:\n",
              "      spin 1s steps(1) infinite;\n",
              "  }\n",
              "\n",
              "  @keyframes spin {\n",
              "    0% {\n",
              "      border-color: transparent;\n",
              "      border-bottom-color: var(--fill-color);\n",
              "      border-left-color: var(--fill-color);\n",
              "    }\n",
              "    20% {\n",
              "      border-color: transparent;\n",
              "      border-left-color: var(--fill-color);\n",
              "      border-top-color: var(--fill-color);\n",
              "    }\n",
              "    30% {\n",
              "      border-color: transparent;\n",
              "      border-left-color: var(--fill-color);\n",
              "      border-top-color: var(--fill-color);\n",
              "      border-right-color: var(--fill-color);\n",
              "    }\n",
              "    40% {\n",
              "      border-color: transparent;\n",
              "      border-right-color: var(--fill-color);\n",
              "      border-top-color: var(--fill-color);\n",
              "    }\n",
              "    60% {\n",
              "      border-color: transparent;\n",
              "      border-right-color: var(--fill-color);\n",
              "    }\n",
              "    80% {\n",
              "      border-color: transparent;\n",
              "      border-right-color: var(--fill-color);\n",
              "      border-bottom-color: var(--fill-color);\n",
              "    }\n",
              "    90% {\n",
              "      border-color: transparent;\n",
              "      border-bottom-color: var(--fill-color);\n",
              "    }\n",
              "  }\n",
              "</style>\n",
              "\n",
              "  <script>\n",
              "    async function quickchart(key) {\n",
              "      const quickchartButtonEl =\n",
              "        document.querySelector('#' + key + ' button');\n",
              "      quickchartButtonEl.disabled = true;  // To prevent multiple clicks.\n",
              "      quickchartButtonEl.classList.add('colab-df-spinner');\n",
              "      try {\n",
              "        const charts = await google.colab.kernel.invokeFunction(\n",
              "            'suggestCharts', [key], {});\n",
              "      } catch (error) {\n",
              "        console.error('Error during call to suggestCharts:', error);\n",
              "      }\n",
              "      quickchartButtonEl.classList.remove('colab-df-spinner');\n",
              "      quickchartButtonEl.classList.add('colab-df-quickchart-complete');\n",
              "    }\n",
              "    (() => {\n",
              "      let quickchartButtonEl =\n",
              "        document.querySelector('#df-4402bfe4-9070-41cd-a6cb-631a909a1da6 button');\n",
              "      quickchartButtonEl.style.display =\n",
              "        google.colab.kernel.accessAllowed ? 'block' : 'none';\n",
              "    })();\n",
              "  </script>\n",
              "</div>\n",
              "\n",
              "  <div id=\"id_3b30e2dd-1741-4e00-8fe8-937b5a43ace1\">\n",
              "    <style>\n",
              "      .colab-df-generate {\n",
              "        background-color: #E8F0FE;\n",
              "        border: none;\n",
              "        border-radius: 50%;\n",
              "        cursor: pointer;\n",
              "        display: none;\n",
              "        fill: #1967D2;\n",
              "        height: 32px;\n",
              "        padding: 0 0 0 0;\n",
              "        width: 32px;\n",
              "      }\n",
              "\n",
              "      .colab-df-generate:hover {\n",
              "        background-color: #E2EBFA;\n",
              "        box-shadow: 0px 1px 2px rgba(60, 64, 67, 0.3), 0px 1px 3px 1px rgba(60, 64, 67, 0.15);\n",
              "        fill: #174EA6;\n",
              "      }\n",
              "\n",
              "      [theme=dark] .colab-df-generate {\n",
              "        background-color: #3B4455;\n",
              "        fill: #D2E3FC;\n",
              "      }\n",
              "\n",
              "      [theme=dark] .colab-df-generate:hover {\n",
              "        background-color: #434B5C;\n",
              "        box-shadow: 0px 1px 3px 1px rgba(0, 0, 0, 0.15);\n",
              "        filter: drop-shadow(0px 1px 2px rgba(0, 0, 0, 0.3));\n",
              "        fill: #FFFFFF;\n",
              "      }\n",
              "    </style>\n",
              "    <button class=\"colab-df-generate\" onclick=\"generateWithVariable('df')\"\n",
              "            title=\"Generate code using this dataframe.\"\n",
              "            style=\"display:none;\">\n",
              "\n",
              "  <svg xmlns=\"http://www.w3.org/2000/svg\" height=\"24px\"viewBox=\"0 0 24 24\"\n",
              "       width=\"24px\">\n",
              "    <path d=\"M7,19H8.4L18.45,9,17,7.55,7,17.6ZM5,21V16.75L18.45,3.32a2,2,0,0,1,2.83,0l1.4,1.43a1.91,1.91,0,0,1,.58,1.4,1.91,1.91,0,0,1-.58,1.4L9.25,21ZM18.45,9,17,7.55Zm-12,3A5.31,5.31,0,0,0,4.9,8.1,5.31,5.31,0,0,0,1,6.5,5.31,5.31,0,0,0,4.9,4.9,5.31,5.31,0,0,0,6.5,1,5.31,5.31,0,0,0,8.1,4.9,5.31,5.31,0,0,0,12,6.5,5.46,5.46,0,0,0,6.5,12Z\"/>\n",
              "  </svg>\n",
              "    </button>\n",
              "    <script>\n",
              "      (() => {\n",
              "      const buttonEl =\n",
              "        document.querySelector('#id_3b30e2dd-1741-4e00-8fe8-937b5a43ace1 button.colab-df-generate');\n",
              "      buttonEl.style.display =\n",
              "        google.colab.kernel.accessAllowed ? 'block' : 'none';\n",
              "\n",
              "      buttonEl.onclick = () => {\n",
              "        google.colab.notebook.generateWithVariable('df');\n",
              "      }\n",
              "      })();\n",
              "    </script>\n",
              "  </div>\n",
              "\n",
              "    </div>\n",
              "  </div>\n"
            ],
            "application/vnd.google.colaboratory.intrinsic+json": {
              "type": "dataframe",
              "variable_name": "df"
            }
          },
          "metadata": {},
          "execution_count": 3
        }
      ],
      "source": [
        "df = pd.read_csv(\"/content/drive/MyDrive/Data/flight_and_weather_encoded_pipe_line.csv\", index_col=0);\n",
        "# print(f\"\\nShape: {df.shape}\", end=\"\\n\\n\")\n",
        "df"
      ]
    },
    {
      "cell_type": "code",
      "execution_count": null,
      "metadata": {
        "colab": {
          "base_uri": "https://localhost:8080/"
        },
        "id": "jMcRjoABbqNx",
        "outputId": "246ccd49-f080-43a7-dc55-7f3f6fffc014"
      },
      "outputs": [
        {
          "output_type": "stream",
          "name": "stdout",
          "text": [
            "\n",
            "Dataset shape: (1851436, 25)\n",
            "features_train shape: (1481148, 23) | features_test shape: (370288, 23)\n",
            "labels_train shape: (1481148, 2) | labels_test shape: (370288, 2)\n"
          ]
        }
      ],
      "source": [
        "#split data for training and testing\n",
        "labels = df[[\"ArrDel15\", \"ArrDelayMinutes\"]]\n",
        "features = df.drop(columns = ['ArrDel15', 'ArrDelayMinutes'])\n",
        "# print(len(features.columns))\n",
        "# print(len(labels.columns))\n",
        "print(f\"\\nDataset shape: {df.shape}\")\n",
        "features_train, features_test, labels_train, labels_test = train_test_split(features, labels, test_size=0.20, random_state=42)\n",
        "print(f\"features_train shape: {features_train.shape} | features_test shape: {features_test.shape}\")\n",
        "print(f\"labels_train shape: {labels_train.shape} | labels_test shape: {labels_test.shape}\")\n",
        "# print(f\"{features_train.shape[1]} Features: {features_train.columns.to_list()}\")\n",
        "del features\n",
        "del labels"
      ]
    },
    {
      "cell_type": "code",
      "execution_count": null,
      "metadata": {
        "colab": {
          "base_uri": "https://localhost:8080/"
        },
        "id": "Eb3Zbmcpb5jl",
        "outputId": "50cd6ee5-424c-45a5-9d95-99290fcfedfe"
      },
      "outputs": [
        {
          "output_type": "stream",
          "name": "stdout",
          "text": [
            "classification_features_train shape: (1481148, 23) | classification_features_test shape: (370288, 23)\n",
            "classification_labels_train shape: (1481148,) | classification_labels_test shape: (370288,)\n"
          ]
        }
      ],
      "source": [
        "#Filtering data for classification training and testing\n",
        "classification_features_train, classification_features_test = features_train, features_test\n",
        "classification_labels_train, classification_labels_test = labels_train[\"ArrDel15\"], labels_test[\"ArrDel15\"]\n",
        "print(f\"classification_features_train shape: {classification_features_train.shape} | classification_features_test shape: {classification_features_test.shape}\")\n",
        "print(f\"classification_labels_train shape: {classification_labels_train.shape} | classification_labels_test shape: {classification_labels_test.shape}\")\n"
      ]
    },
    {
      "cell_type": "code",
      "execution_count": null,
      "metadata": {
        "colab": {
          "base_uri": "https://localhost:8080/",
          "height": 554
        },
        "id": "i4o80j8-cA8Z",
        "outputId": "71e02691-4200-4300-8470-827b7464f62e"
      },
      "outputs": [
        {
          "output_type": "display_data",
          "data": {
            "text/plain": [
              "<Figure size 640x480 with 1 Axes>"
            ],
            "image/png": "[encoded data removed]"
          },
          "metadata": {}
        },
        {
          "output_type": "stream",
          "name": "stdout",
          "text": [
            "ArrDel15\n",
            "0.0         1170848\n",
            "1.0          310300\n",
            "dtype: int64\n"
          ]
        }
      ],
      "source": [
        "#Showing training data without handling imbalance\n",
        "# Plotting the percentage of observations that fall under each class\n",
        "ax = pd.DataFrame(classification_labels_train).value_counts().sort_values().plot(kind=\"barh\", color=[\"r\", \"g\"])\n",
        "ax.set_axisbelow(True)\n",
        "ax.grid()\n",
        "totals= []\n",
        "for i in ax.patches:\n",
        "    totals.append(i.get_width())\n",
        "total = sum(totals)\n",
        "for i in ax.patches:\n",
        "     ax.text(i.get_width()+.3, i.get_y()+.20,\n",
        "     str(round((i.get_width()/total)*100, 2))+'%',\n",
        "     fontsize=10, color='black')\n",
        "plt.title(\"ArrDel15\", fontsize=20)\n",
        "plt.xlabel(\"Count\", fontsize=14)\n",
        "plt.ylabel(\"Class\", fontsize=14)\n",
        "plt.show()\n",
        "print(pd.DataFrame(classification_labels_train).value_counts())\n",
        "fig = ax.get_figure()\n"
      ]
    },
    {
      "cell_type": "code",
      "execution_count": null,
      "metadata": {
        "colab": {
          "base_uri": "https://localhost:8080/"
        },
        "id": "XksgTbDYcO_c",
        "outputId": "77a6fcc5-2ac5-43f6-ea4b-98a8298f772a"
      },
      "outputs": [
        {
          "output_type": "stream",
          "name": "stderr",
          "text": [
            "/usr/local/lib/python3.10/dist-packages/imblearn/over_sampling/_smote/base.py:336: FutureWarning: The parameter `n_jobs` has been deprecated in 0.10 and will be removed in 0.12. You can pass an nearest neighbors estimator where `n_jobs` is already set instead.\n",
            "  warnings.warn(\n"
          ]
        }
      ],
      "source": [
        "from imblearn.over_sampling import SMOTE\n",
        "smote = SMOTE(n_jobs=-1, random_state=42)\n",
        "classification_features_train, classification_labels_train = smote.fit_resample(classification_features_train, classification_labels_train)\n"
      ]
    },
    {
      "cell_type": "code",
      "execution_count": null,
      "metadata": {
        "colab": {
          "base_uri": "https://localhost:8080/"
        },
        "id": "dmescKPFclSt",
        "outputId": "b3e2f2e8-0c71-4698-dca5-61b18f4e5cd8"
      },
      "outputs": [
        {
          "output_type": "stream",
          "name": "stdout",
          "text": [
            "(2341696, 1)\n",
            "         ArrDel15\n",
            "0             0.0\n",
            "1             0.0\n",
            "2             0.0\n",
            "3             0.0\n",
            "4             0.0\n",
            "...           ...\n",
            "2341691       1.0\n",
            "2341692       1.0\n",
            "2341693       1.0\n",
            "2341694       1.0\n",
            "2341695       1.0\n",
            "\n",
            "[2341696 rows x 1 columns]\n"
          ]
        }
      ],
      "source": [
        "classification_features_train.to_csv(\"/content/drive/MyDrive/Data/pipe_line_smote_features_train.csv\")\n",
        "pd.DataFrame(classification_labels_train).to_csv(\"/content/drive/MyDrive/Data/pipe_line_smote_labels_train.csv\")\n",
        "classification_features_train = pd.read_csv(\"/content/drive/MyDrive/Data/pipe_line_smote_features_train.csv\", index_col=0)\n",
        "classification_labels_train = pd.read_csv(\"/content/drive/MyDrive/Data/pipe_line_smote_labels_train.csv\", index_col=0)\n",
        "print(classification_labels_train.shape)\n",
        "print(classification_labels_train)"
      ]
    },
    {
      "cell_type": "code",
      "execution_count": null,
      "metadata": {
        "colab": {
          "base_uri": "https://localhost:8080/",
          "height": 554
        },
        "id": "b7B4CLDxfCAn",
        "outputId": "01460753-11f4-412b-d715-02f3c764df1d"
      },
      "outputs": [
        {
          "output_type": "display_data",
          "data": {
            "text/plain": [
              "<Figure size 640x480 with 1 Axes>"
            ],
            "image/png": "[encoded data removed]"
          },
          "metadata": {}
        },
        {
          "output_type": "stream",
          "name": "stdout",
          "text": [
            "ArrDel15\n",
            "0.0         1170848\n",
            "1.0         1170848\n",
            "dtype: int64\n"
          ]
        }
      ],
      "source": [
        "#Data after handling imbalance with smote\n",
        "ax = pd.DataFrame(classification_labels_train).value_counts().sort_values().plot(kind=\"barh\", color=[\"r\", \"g\"])\n",
        "ax.set_axisbelow(True)\n",
        "ax.grid()\n",
        "totals= []\n",
        "for i in ax.patches:\n",
        "    totals.append(i.get_width())\n",
        "total = sum(totals)\n",
        "for i in ax.patches:\n",
        "     ax.text(i.get_width()+.3, i.get_y()+.20,\n",
        "     str(round((i.get_width()/total)*100, 2))+'%',\n",
        "     fontsize=10, color='black')\n",
        "plt.title(\"ArrDel15\", fontsize=20)\n",
        "plt.xlabel(\"Count\", fontsize=14)\n",
        "plt.ylabel(\"Class\", fontsize=14)\n",
        "plt.show()\n",
        "print(pd.DataFrame(classification_labels_train).value_counts())\n",
        "fig = ax.get_figure()"
      ]
    },
    {
      "cell_type": "markdown",
      "metadata": {
        "id": "ULKgNREJgHha"
      },
      "source": [
        "#Random Forest Classification"
      ]
    },
    {
      "cell_type": "code",
      "execution_count": null,
      "metadata": {
        "colab": {
          "base_uri": "https://localhost:8080/"
        },
        "id": "MfwpTf-UgCvV",
        "outputId": "56e26ae6-4043-4019-ee50-50c778a04e14"
      },
      "outputs": [
        {
          "output_type": "stream",
          "name": "stdout",
          "text": [
            "[[279120  13410]\n",
            " [ 19741  58017]]\n",
            "              precision    recall  f1-score   support\n",
            "\n",
            "         0.0       0.93      0.95      0.94    292530\n",
            "         1.0       0.81      0.75      0.78     77758\n",
            "\n",
            "    accuracy                           0.91    370288\n",
            "   macro avg       0.87      0.85      0.86    370288\n",
            "weighted avg       0.91      0.91      0.91    370288\n",
            "\n"
          ]
        }
      ],
      "source": [
        "classification_labels_train = classification_labels_train[\"ArrDel15\"].values\n",
        "model = RandomForestClassifier(n_jobs=-1)\n",
        "model.fit(classification_features_train, classification_labels_train)\n",
        "model_pred = model.predict(classification_features_test)\n",
        "print(confusion_matrix(classification_labels_test, model_pred))\n",
        "print(classification_report(classification_labels_test, model_pred))"
      ]
    },
    {
      "cell_type": "code",
      "execution_count": null,
      "metadata": {
        "colab": {
          "base_uri": "https://localhost:8080/",
          "height": 480
        },
        "id": "aVY713vjgYe0",
        "outputId": "94d57bcf-cbbe-488c-ff63-96247f3c3780"
      },
      "outputs": [
        {
          "output_type": "display_data",
          "data": {
            "text/plain": [
              "<Figure size 640x480 with 1 Axes>"
            ],
            "image/png": "[encoded data removed]"
          },
          "metadata": {}
        }
      ],
      "source": [
        "\n",
        "from sklearn.metrics import roc_curve\n",
        "from sklearn.metrics import roc_auc_score\n",
        "\n",
        "fpr, tpr, _ = roc_curve(classification_labels_test,  model_pred)\n",
        "auc = roc_auc_score(classification_labels_test, model_pred)\n",
        "plt.plot(fpr, tpr, label=\"{}, AUC={:.3f}\".format(\"Random Forest Classifier\", auc))\n",
        "\n",
        "plt.plot([0,1], [0,1], color='orange', linestyle='--')\n",
        "\n",
        "plt.xticks(np.arange(0.0, 1.1, step=0.1))\n",
        "plt.xlabel(\"Flase Positive Rate\", fontsize=15)\n",
        "\n",
        "plt.yticks(np.arange(0.0, 1.1, step=0.1))\n",
        "plt.ylabel(\"True Positive Rate\", fontsize=15)\n",
        "\n",
        "plt.title(\"ROC AUC Analysis\", fontweight=\"bold\", fontsize=15)\n",
        "plt.legend(prop={\"size\":13}, loc=\"lower right\")\n",
        "\n",
        "plt.show()"
      ]
    },
    {
      "cell_type": "markdown",
      "metadata": {
        "id": "bW9NnmIBl1a2"
      },
      "source": [
        "#Random Forest Regression"
      ]
    },
    {
      "cell_type": "code",
      "execution_count": null,
      "metadata": {
        "id": "qO-mlqg2lnUS"
      },
      "outputs": [],
      "source": [
        "#  filter only those flights that are predicted as delayed by the classifier\n",
        "delayed_flights_features = features_test\n",
        "# add a column to filter\n",
        "delayed_flights_features[\"Predicted_ArrDel15\"] = model_pred\n",
        "delayed_flights_features = delayed_flights_features.loc[:][delayed_flights_features[\"Predicted_ArrDel15\"] == 1.0]\n",
        "delayed_flights_features = delayed_flights_features.drop([\"Predicted_ArrDel15\"], axis=1)\n"
      ]
    },
    {
      "cell_type": "code",
      "execution_count": null,
      "metadata": {
        "id": "8xPyU2iXvMas"
      },
      "outputs": [],
      "source": [
        "delayed_flights_labels = pd.DataFrame(labels_test[\"ArrDelayMinutes\"])\n",
        "delayed_flights_labels[\"Predicted_ArrDel15\"] = model_pred\n",
        "delayed_flights_labels = delayed_flights_labels.loc[:][delayed_flights_labels[\"Predicted_ArrDel15\"] == 1.0]\n",
        "delayed_flights_labels = delayed_flights_labels.drop([\"Predicted_ArrDel15\"], axis=1)\n",
        "delayed_flights_labels = np.asarray(delayed_flights_labels[\"ArrDelayMinutes\"])"
      ]
    },
    {
      "cell_type": "code",
      "execution_count": null,
      "metadata": {
        "colab": {
          "base_uri": "https://localhost:8080/"
        },
        "id": "TPZcF90IvQJf",
        "outputId": "7f93c9f4-d400-4ecc-8f5c-d6cf36029f12"
      },
      "outputs": [
        {
          "output_type": "execute_result",
          "data": {
            "text/plain": [
              "((78209, 22), (78209,))"
            ]
          },
          "metadata": {},
          "execution_count": 20
        }
      ],
      "source": [
        "delayed_flights_features.shape, delayed_flights_labels.shape"
      ]
    },
    {
      "cell_type": "code",
      "execution_count": null,
      "metadata": {
        "colab": {
          "base_uri": "https://localhost:8080/"
        },
        "id": "6W-UIrb2vS0-",
        "outputId": "5405d8ac-5575-454d-8853-80dd8cd53378"
      },
      "outputs": [
        {
          "output_type": "stream",
          "name": "stdout",
          "text": [
            "regression_features_train shape: (62567, 22) | regression_features_test shape: (15642, 22)\n",
            "regression_labels_train shape: (62567,) | regression_labels_test shape: (15642,)\n"
          ]
        }
      ],
      "source": [
        "#split data for training and testing\n",
        "regression_features_train, regression_features_test, regression_labels_train, regression_labels_test = train_test_split(delayed_flights_features, delayed_flights_labels, test_size=0.20, random_state=42)\n",
        "print(f\"regression_features_train shape: {regression_features_train.shape} | regression_features_test shape: {regression_features_test.shape}\")\n",
        "print(f\"regression_labels_train shape: {regression_labels_train.shape} | regression_labels_test shape: {regression_labels_test.shape}\")\n"
      ]
    },
    {
      "cell_type": "code",
      "execution_count": null,
      "metadata": {
        "id": "tJLqjXA6vZln"
      },
      "outputs": [],
      "source": [
        "#Random Forest Regressor\n",
        "# Helper function for regression report - summary metrics\n",
        "perf_df = pd.DataFrame(columns=[\"Regressors\", \"MSE\", \"RMSE\", \"MAE\", \"R2\"])\n",
        "def print_metrics(labels_test, model_pred, regressor_name, perf_df):\n",
        "\n",
        "    mse = mean_squared_error(labels_test, model_pred)\n",
        "    rmse = np.sqrt(mse)\n",
        "    mae = mean_absolute_error(labels_test, model_pred)\n",
        "    r2 = r2_score(labels_test, model_pred)\n",
        "\n",
        "    print(f\"MSE      : {mse}\", end=\"\\n\\n\")\n",
        "    print(f\"RMSE     : {rmse}\", end=\"\\n\\n\")\n",
        "    print(f\"MAE      : {mae}\", end=\"\\n\\n\")\n",
        "    print(f\"R2 Score : {r2}\", end=\"\\n\\n\")\n",
        "\n",
        "    perf_df = perf_df.append({\"Regressors\": regressor_name,\n",
        "                                        \"MSE\": mse,\n",
        "                                        \"RMSE\": rmse,\n",
        "                                        \"MAE\": mae,\n",
        "                                        \"R2\": r2}, ignore_index=True)\n",
        "    return perf_df"
      ]
    },
    {
      "cell_type": "markdown",
      "metadata": {
        "id": "ccVNqrLRvfyN"
      },
      "source": [
        "#Model Evaluation"
      ]
    },
    {
      "cell_type": "code",
      "execution_count": null,
      "metadata": {
        "colab": {
          "base_uri": "https://localhost:8080/"
        },
        "id": "uZnOxcMaveVu",
        "outputId": "7b014dff-3b78-4e02-e5b7-6d2a1e13ec97"
      },
      "outputs": [
        {
          "output_type": "stream",
          "name": "stdout",
          "text": [
            "MSE      : 5076.73663865993\n",
            "\n",
            "RMSE     : 71.25122201520428\n",
            "\n",
            "MAE      : 43.45105950531051\n",
            "\n",
            "R2 Score : 0.05043005194025474\n",
            "\n"
          ]
        },
        {
          "output_type": "stream",
          "name": "stderr",
          "text": [
            "<ipython-input-22-2b40f1f4eeab>:16: FutureWarning: The frame.append method is deprecated and will be removed from pandas in a future version. Use pandas.concat instead.\n",
            "  perf_df = perf_df.append({\"Regressors\": regressor_name,\n"
          ]
        }
      ],
      "source": [
        "# model = RandomForestRegressor(n_jobs=-1)\n",
        "# model.fit(regression_features_train, regression_labels_train)\n",
        "# model_pred = model.predict(regression_features_test)\n",
        "# perf_df = print_metrics(regression_labels_test, model_pred, \"RandomForestRegressor\", perf_df)\n",
        "\n",
        "from sklearn.linear_model import LinearRegression\n",
        "model = LinearRegression(n_jobs=-1)\n",
        "model.fit(regression_features_train, regression_labels_train)\n",
        "model_pred = model.predict(regression_features_test)\n",
        "perf_df = print_metrics(regression_labels_test, model_pred, \"LinearRegression\", perf_df)\n"
      ]
    },
    {
      "cell_type": "code",
      "source": [],
      "metadata": {
        "id": "qIlTyV-GDjZF"
      },
      "execution_count": null,
      "outputs": []
    },
    {
      "cell_type": "markdown",
      "metadata": {
        "id": "MAxPRvEUvq4G"
      },
      "source": [
        "#Regression Analysis"
      ]
    },
    {
      "cell_type": "code",
      "execution_count": null,
      "metadata": {
        "colab": {
          "base_uri": "https://localhost:8080/"
        },
        "id": "cDFvhB4Ovs3I",
        "outputId": "6a1bfe61-2dc8-430e-d5c6-da728853cfaf"
      },
      "outputs": [
        {
          "output_type": "stream",
          "name": "stdout",
          "text": [
            "Min:  0.0\n",
            "Max:  1438.0\n"
          ]
        }
      ],
      "source": [
        "#split the dataset based on the arrival delay in mins to determine how the regressor performance varies\n",
        "regression_features_test[\"ArrDelayMinutes\"] = pd.DataFrame(regression_labels_test)[0].values\n",
        "print(\"Min: \", regression_features_test[\"ArrDelayMinutes\"].min())\n",
        "print(\"Max: \", regression_features_test[\"ArrDelayMinutes\"].max())"
      ]
    },
    {
      "cell_type": "code",
      "execution_count": null,
      "metadata": {
        "colab": {
          "base_uri": "https://localhost:8080/",
          "height": 578
        },
        "id": "jXD7xI9hxCaN",
        "outputId": "0061a67a-5468-40e4-e1df-f083de86eb41"
      },
      "outputs": [
        {
          "output_type": "stream",
          "name": "stderr",
          "text": [
            "<ipython-input-26-b731eabc205a>:3: FutureWarning: \n",
            "\n",
            "`shade` is now deprecated in favor of `fill`; setting `fill=True`.\n",
            "This will become an error in seaborn v0.14.0; please update your code.\n",
            "\n",
            "  ax = sns.kdeplot(regression_features_test[\"ArrDelayMinutes\"], shade=True, label='Frequency')\n"
          ]
        },
        {
          "output_type": "display_data",
          "data": {
            "text/plain": [
              "<Figure size 640x480 with 1 Axes>"
            ],
            "image/png": "[encoded data removed]"
          },
          "metadata": {}
        }
      ],
      "source": [
        "fig, ax = plt.subplots()\n",
        "plt.grid()\n",
        "ax = sns.kdeplot(regression_features_test[\"ArrDelayMinutes\"], shade=True, label='Frequency')\n",
        "ax.legend(loc='upper right')\n",
        "plt.title(\"Regression Anlaysis\", fontweight=\"bold\", fontsize=15)\n",
        "plt.show()"
      ]
    },
    {
      "cell_type": "code",
      "execution_count": null,
      "metadata": {
        "colab": {
          "base_uri": "https://localhost:8080/",
          "height": 566
        },
        "id": "wwcBF_yBxFAg",
        "outputId": "c17171d2-de3c-4e8d-9765-233ef7ecf917"
      },
      "outputs": [
        {
          "output_type": "display_data",
          "data": {
            "text/plain": [
              "<Figure size 600x600 with 1 Axes>"
            ],
            "image/png": "[encoded data removed]"
          },
          "metadata": {}
        }
      ],
      "source": [
        "ranges = [-1, 100, 200, 500, 1000, 2000]\n",
        "result = regression_features_test[\"ArrDelayMinutes\"].groupby(pd.cut(regression_features_test[\"ArrDelayMinutes\"], ranges)).count()\n",
        "data = {'0-100': result[0], '100-200': result[1], '200-500': result[2], '500-1000': result[3],'1000-2000': result[4]}\n",
        "names = list(data.keys())\n",
        "values = list(data.values())\n",
        "\n",
        "fig, ax = plt.subplots(figsize=(6, 6))\n",
        "ax.grid()\n",
        "ax.set_axisbelow(True)\n",
        "ax.bar(names, values)\n",
        "plt.title(\"Regression Anlaysis\", fontweight=\"bold\", fontsize=15)\n",
        "plt.xlabel(\"Arrival Delay in Minutes\")\n",
        "plt.ylabel(\"Frequency\")\n",
        "\n",
        "rects = ax.patches\n",
        "labels = list(result)\n",
        "\n",
        "for rect, label in zip(rects, labels):\n",
        "    height = rect.get_height()\n",
        "    ax.text(\n",
        "        rect.get_x() + rect.get_width() / 2, height + 5, label, ha=\"center\", va=\"bottom\"\n",
        "    )\n",
        "plt.show()"
      ]
    },
    {
      "cell_type": "code",
      "execution_count": null,
      "metadata": {
        "colab": {
          "base_uri": "https://localhost:8080/"
        },
        "id": "wRwFJogCxrao",
        "outputId": "3fc7a7db-345d-4c2a-ecab-6f28d1a1bdea"
      },
      "outputs": [
        {
          "output_type": "stream",
          "name": "stdout",
          "text": [
            "Shape:  (11629, 24)\n",
            "\n",
            "MSE      : 243.89176700902675\n",
            "\n",
            "RMSE     : 15.617034513921865\n",
            "\n",
            "MAE      : 11.971262461661938\n",
            "\n",
            "R2 Score : 0.6424087663694527\n",
            "\n"
          ]
        },
        {
          "output_type": "stream",
          "name": "stderr",
          "text": [
            "<ipython-input-20-2b40f1f4eeab>:16: FutureWarning: The frame.append method is deprecated and will be removed from pandas in a future version. Use pandas.concat instead.\n",
            "  perf_df = perf_df.append({\"Regressors\": regressor_name,\n"
          ]
        }
      ],
      "source": [
        "#Range 0 to 100\n",
        "df = regression_features_test.loc[regression_features_test[\"ArrDelayMinutes\"].isin(list(range(0, 100)))]\n",
        "print(\"Shape: \", df.shape, end=\"\\n\\n\")\n",
        "\n",
        "X_test = df.drop(columns=[\"ArrDelayMinutes\"])\n",
        "y_test = df[\"ArrDelayMinutes\"].values\n",
        "\n",
        "model_pred = model.predict(X_test)\n",
        "perf_df = print_metrics(y_test, model_pred, \"RandomForestRegressor\", perf_df)"
      ]
    },
    {
      "cell_type": "code",
      "execution_count": null,
      "metadata": {
        "id": "PFp526Px_rJ9",
        "colab": {
          "base_uri": "https://localhost:8080/"
        },
        "outputId": "0e04e2bb-76d1-4164-f7c1-3dc063dab80e"
      },
      "outputs": [
        {
          "output_type": "stream",
          "name": "stdout",
          "text": [
            "Shape:  (2010, 24)\n",
            "\n",
            "MSE      : 725.4569792447485\n",
            "\n",
            "RMSE     : 26.9343085904344\n",
            "\n",
            "MAE      : 18.515242951907133\n",
            "\n",
            "R2 Score : 0.008612444836337496\n",
            "\n"
          ]
        },
        {
          "output_type": "stream",
          "name": "stderr",
          "text": [
            "<ipython-input-20-2b40f1f4eeab>:16: FutureWarning: The frame.append method is deprecated and will be removed from pandas in a future version. Use pandas.concat instead.\n",
            "  perf_df = perf_df.append({\"Regressors\": regressor_name,\n"
          ]
        }
      ],
      "source": [
        "#Range 100 to 200\n",
        "df = regression_features_test.loc[regression_features_test[\"ArrDelayMinutes\"].isin(list(range(100, 200)))]\n",
        "print(\"Shape: \", df.shape, end=\"\\n\\n\")\n",
        "\n",
        "X_test = df.drop(columns=[\"ArrDelayMinutes\"])\n",
        "y_test = df[\"ArrDelayMinutes\"].values\n",
        "\n",
        "model_pred = model.predict(X_test)\n",
        "perf_df = print_metrics(y_test, model_pred, \"RandomForestRegressor\", perf_df)"
      ]
    },
    {
      "cell_type": "code",
      "execution_count": null,
      "metadata": {
        "id": "9R7XNXA__vOV",
        "colab": {
          "base_uri": "https://localhost:8080/"
        },
        "outputId": "988c7290-2b41-45ec-bd5b-2c43ada8e9cb"
      },
      "outputs": [
        {
          "output_type": "stream",
          "name": "stdout",
          "text": [
            "Shape:  (595, 24)\n",
            "\n",
            "MSE      : 916.1727919327731\n",
            "\n",
            "RMSE     : 30.26834636931415\n",
            "\n",
            "MAE      : 19.55112605042017\n",
            "\n",
            "R2 Score : 0.7887835665467269\n",
            "\n"
          ]
        },
        {
          "output_type": "stream",
          "name": "stderr",
          "text": [
            "<ipython-input-20-2b40f1f4eeab>:16: FutureWarning: The frame.append method is deprecated and will be removed from pandas in a future version. Use pandas.concat instead.\n",
            "  perf_df = perf_df.append({\"Regressors\": regressor_name,\n"
          ]
        }
      ],
      "source": [
        "#Range 200 to 500\n",
        "df = regression_features_test.loc[regression_features_test[\"ArrDelayMinutes\"].isin(list(range(200, 500)))]\n",
        "print(\"Shape: \", df.shape, end=\"\\n\\n\")\n",
        "\n",
        "X_test = df.drop(columns=[\"ArrDelayMinutes\"])\n",
        "y_test = df[\"ArrDelayMinutes\"].values\n",
        "\n",
        "model_pred = model.predict(X_test)\n",
        "perf_df = print_metrics(y_test, model_pred, \"RandomForestRegressor\", perf_df)"
      ]
    },
    {
      "cell_type": "code",
      "execution_count": null,
      "metadata": {
        "id": "ChavD3cy_0KE",
        "colab": {
          "base_uri": "https://localhost:8080/"
        },
        "outputId": "12e65350-9478-4b77-b341-a62f16306dd6"
      },
      "outputs": [
        {
          "output_type": "stream",
          "name": "stdout",
          "text": [
            "Shape:  (39, 24)\n",
            "\n",
            "MSE      : 1430.8443487179488\n",
            "\n",
            "RMSE     : 37.82650325787395\n",
            "\n",
            "MAE      : 19.574358974358972\n",
            "\n",
            "R2 Score : 0.9126984808118832\n",
            "\n"
          ]
        },
        {
          "output_type": "stream",
          "name": "stderr",
          "text": [
            "<ipython-input-20-2b40f1f4eeab>:16: FutureWarning: The frame.append method is deprecated and will be removed from pandas in a future version. Use pandas.concat instead.\n",
            "  perf_df = perf_df.append({\"Regressors\": regressor_name,\n"
          ]
        }
      ],
      "source": [
        "#Range 500 to 1000\n",
        "df = regression_features_test.loc[regression_features_test[\"ArrDelayMinutes\"].isin(list(range(500, 1000)))]\n",
        "print(\"Shape: \", df.shape, end=\"\\n\\n\")\n",
        "\n",
        "X_test = df.drop(columns=[\"ArrDelayMinutes\"])\n",
        "y_test = df[\"ArrDelayMinutes\"].values\n",
        "\n",
        "model_pred = model.predict(X_test)\n",
        "perf_df = print_metrics(y_test, model_pred, \"RandomForestRegressor\", perf_df)"
      ]
    },
    {
      "cell_type": "code",
      "execution_count": null,
      "metadata": {
        "id": "o7qQiWqL_6xN",
        "colab": {
          "base_uri": "https://localhost:8080/"
        },
        "outputId": "dec18c27-b9f9-427a-a915-b523d7f15d84"
      },
      "outputs": [
        {
          "output_type": "stream",
          "name": "stdout",
          "text": [
            "Shape:  (4, 24)\n",
            "\n",
            "MSE      : 80440.666625\n",
            "\n",
            "RMSE     : 283.62063857378223\n",
            "\n",
            "MAE      : 179.96749999999997\n",
            "\n",
            "R2 Score : 0.39267603396727846\n",
            "\n"
          ]
        },
        {
          "output_type": "stream",
          "name": "stderr",
          "text": [
            "<ipython-input-20-2b40f1f4eeab>:16: FutureWarning: The frame.append method is deprecated and will be removed from pandas in a future version. Use pandas.concat instead.\n",
            "  perf_df = perf_df.append({\"Regressors\": regressor_name,\n"
          ]
        }
      ],
      "source": [
        "#Range 1000 to 20000\n",
        "df = regression_features_test.loc[regression_features_test[\"ArrDelayMinutes\"].isin(list(range(1000, 2000)))]\n",
        "print(\"Shape: \", df.shape, end=\"\\n\\n\")\n",
        "\n",
        "X_test = df.drop(columns=[\"ArrDelayMinutes\"])\n",
        "y_test = df[\"ArrDelayMinutes\"].values\n",
        "\n",
        "model_pred = model.predict(X_test)\n",
        "perf_df = print_metrics(y_test, model_pred, \"RandomForestRegressor\", perf_df)"
      ]
    },
    {
      "cell_type": "code",
      "source": [],
      "metadata": {
        "id": "tJlRIucy6i2J"
      },
      "execution_count": null,
      "outputs": []
    }
  ],
  "metadata": {
    "colab": {
      "provenance": []
    },
    "kernelspec": {
      "display_name": "Python 3",
      "name": "python3"
    },
    "language_info": {
      "name": "python"
    }
  },
  "nbformat": 4,
  "nbformat_minor": 0
}