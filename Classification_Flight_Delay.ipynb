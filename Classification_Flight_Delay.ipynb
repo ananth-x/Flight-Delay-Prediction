{
  "nbformat": 4,
  "nbformat_minor": 0,
  "metadata": {
    "colab": {
      "provenance": []
    },
    "kernelspec": {
      "name": "python3",
      "display_name": "Python 3"
    },
    "language_info": {
      "name": "python"
    }
  },
  "cells": [
    {
      "cell_type": "code",
      "execution_count": null,
      "metadata": {
        "id": "hyUkIVX4LEDy",
        "colab": {
          "base_uri": "https://localhost:8080/"
        },
        "outputId": "138e25fa-a257-4e61-a518-a2a927736e22"
      },
      "outputs": [
        {
          "output_type": "stream",
          "name": "stdout",
          "text": [
            "Mounted at /content/drive\n"
          ]
        }
      ],
      "source": [
        "from google.colab import drive\n",
        "drive.mount('/content/drive',force_remount=True)\n",
        "import pandas as pd\n",
        "import numpy as np\n",
        "import matplotlib\n",
        "import matplotlib.pyplot as plt\n",
        "import seaborn as sns\n",
        "import joblib\n",
        "from sklearn.preprocessing import LabelEncoder\n",
        "from sklearn.model_selection import train_test_split\n",
        "from sklearn.linear_model import LogisticRegression\n",
        "from sklearn.tree import DecisionTreeClassifier\n",
        "from sklearn.ensemble import GradientBoostingClassifier\n",
        "from sklearn.ensemble import RandomForestClassifier\n",
        "from sklearn.ensemble import ExtraTreesClassifier\n",
        "from sklearn.metrics import accuracy_score\n",
        "from sklearn.metrics import f1_score\n",
        "from sklearn.metrics import precision_score\n",
        "from sklearn.metrics import recall_score\n",
        "from sklearn.metrics import classification_report\n",
        "from sklearn.metrics import confusion_matrix\n",
        "\n",
        "from sklearn.metrics import roc_curve\n",
        "from sklearn.metrics import roc_auc_score\n",
        "\n",
        "from scipy.stats import pointbiserialr"
      ]
    },
    {
      "cell_type": "code",
      "source": [
        "# Loading the combined flight and weather data\n",
        "filepath = \"/content/drive/MyDrive/Data/flight_and_weather.csv\"\n",
        "df = pd.read_csv(filepath, index_col=0)\n",
        "\n",
        "# Understanding the column data\n",
        "print(df.info())\n",
        "print(f\"\\nShape: {df.shape}\")"
      ],
      "metadata": {
        "colab": {
          "base_uri": "https://localhost:8080/"
        },
        "id": "cGLH4VX0LElw",
        "outputId": "3d5e3f55-2541-474d-9f42-497c9b0ef729"
      },
      "execution_count": null,
      "outputs": [
        {
          "output_type": "stream",
          "name": "stdout",
          "text": [
            "<class 'pandas.core.frame.DataFrame'>\n",
            "Int64Index: 1851436 entries, 0 to 1851435\n",
            "Data columns (total 33 columns):\n",
            " #   Column           Dtype  \n",
            "---  ------           -----  \n",
            " 0   Year             int64  \n",
            " 1   Quarter          int64  \n",
            " 2   Month            int64  \n",
            " 3   DayofMonth       int64  \n",
            " 4   FlightDate       object \n",
            " 5   OriginAirportID  int64  \n",
            " 6   Origin           object \n",
            " 7   DestAirportID    int64  \n",
            " 8   Dest             object \n",
            " 9   CRSDepTime       int64  \n",
            " 10  DepTime          float64\n",
            " 11  DepDelayMinutes  float64\n",
            " 12  DepDel15         float64\n",
            " 13  CRSArrTime       int64  \n",
            " 14  ArrTime          float64\n",
            " 15  ArrDelayMinutes  float64\n",
            " 16  ArrDel15         float64\n",
            " 17  Time_new         int64  \n",
            " 18  windspeedKmph    int64  \n",
            " 19  winddirDegree    int64  \n",
            " 20  weatherCode      int64  \n",
            " 21  precipMM         float64\n",
            " 22  visibility       int64  \n",
            " 23  pressure         int64  \n",
            " 24  cloudcover       int64  \n",
            " 25  DewPointF        int64  \n",
            " 26  WindGustKmph     int64  \n",
            " 27  tempF            int64  \n",
            " 28  WindChillF       int64  \n",
            " 29  humidity         int64  \n",
            " 30  date             object \n",
            " 31  time             int64  \n",
            " 32  airport          object \n",
            "dtypes: float64(7), int64(21), object(5)\n",
            "memory usage: 480.3+ MB\n",
            "None\n",
            "\n",
            "Shape: (1851436, 33)\n"
          ]
        }
      ]
    },
    {
      "cell_type": "code",
      "source": [
        "# Dropping columns with redundant or duplicate data\n",
        "df.drop(columns=[\"FlightDate\",\n",
        "                 \"OriginAirportID\",\n",
        "                 \"DestAirportID\",\n",
        "                 \"CRSArrTime\",\n",
        "                 \"ArrTime\",\n",
        "                 \"ArrDelayMinutes\",\n",
        "                 \"Time_new\",\n",
        "                 \"date\",\n",
        "                 \"airport\"],\n",
        "        inplace=True)\n",
        "print(f\"\\nShape: {df.shape}\", end=\"\\n\\n\")\n",
        "print(df.info())"
      ],
      "metadata": {
        "id": "AjUJgohJLaY_",
        "colab": {
          "base_uri": "https://localhost:8080/"
        },
        "outputId": "636b2762-d504-442a-dd55-0e4d37b9cd3e"
      },
      "execution_count": null,
      "outputs": [
        {
          "output_type": "stream",
          "name": "stdout",
          "text": [
            "\n",
            "Shape: (1851436, 24)\n",
            "\n",
            "<class 'pandas.core.frame.DataFrame'>\n",
            "Int64Index: 1851436 entries, 0 to 1851435\n",
            "Data columns (total 24 columns):\n",
            " #   Column           Dtype  \n",
            "---  ------           -----  \n",
            " 0   Year             int64  \n",
            " 1   Quarter          int64  \n",
            " 2   Month            int64  \n",
            " 3   DayofMonth       int64  \n",
            " 4   Origin           object \n",
            " 5   Dest             object \n",
            " 6   CRSDepTime       int64  \n",
            " 7   DepTime          float64\n",
            " 8   DepDelayMinutes  float64\n",
            " 9   DepDel15         float64\n",
            " 10  ArrDel15         float64\n",
            " 11  windspeedKmph    int64  \n",
            " 12  winddirDegree    int64  \n",
            " 13  weatherCode      int64  \n",
            " 14  precipMM         float64\n",
            " 15  visibility       int64  \n",
            " 16  pressure         int64  \n",
            " 17  cloudcover       int64  \n",
            " 18  DewPointF        int64  \n",
            " 19  WindGustKmph     int64  \n",
            " 20  tempF            int64  \n",
            " 21  WindChillF       int64  \n",
            " 22  humidity         int64  \n",
            " 23  time             int64  \n",
            "dtypes: float64(5), int64(17), object(2)\n",
            "memory usage: 353.1+ MB\n",
            "None\n"
          ]
        }
      ]
    },
    {
      "cell_type": "code",
      "source": [
        "# Encode the names of the 15 airports which are strings into a number range: 0 - 14\n",
        "labelEncoder = LabelEncoder()\n",
        "df[\"Origin\"] = labelEncoder.fit_transform(df[\"Origin\"])\n",
        "df[\"Dest\"] = labelEncoder.fit_transform(df[\"Dest\"])\n",
        "features = df.loc[:, df.columns != \"ArrDel15\"]\n",
        "labels = np.asarray(df[\"ArrDel15\"])\n",
        "print(features.columns)\n",
        "df[[\"Origin\", \"Dest\"]]"
      ],
      "metadata": {
        "colab": {
          "base_uri": "https://localhost:8080/",
          "height": 527
        },
        "id": "HYvIPSv2Ox_y",
        "outputId": "40c16c56-6548-4b8a-f21f-3ed5b17878bd"
      },
      "execution_count": null,
      "outputs": [
        {
          "output_type": "stream",
          "name": "stdout",
          "text": [
            "Index(['Year', 'Quarter', 'Month', 'DayofMonth', 'Origin', 'Dest',\n",
            "       'CRSDepTime', 'DepTime', 'DepDelayMinutes', 'DepDel15', 'windspeedKmph',\n",
            "       'winddirDegree', 'weatherCode', 'precipMM', 'visibility', 'pressure',\n",
            "       'cloudcover', 'DewPointF', 'WindGustKmph', 'tempF', 'WindChillF',\n",
            "       'humidity', 'time'],\n",
            "      dtype='object')\n"
          ]
        },
        {
          "output_type": "execute_result",
          "data": {
            "text/plain": [
              "         Origin  Dest\n",
              "0            13     6\n",
              "1            13    12\n",
              "2            13     2\n",
              "3            13     5\n",
              "4            13     0\n",
              "...         ...   ...\n",
              "1851431      12     8\n",
              "1851432      12    13\n",
              "1851433      12    14\n",
              "1851434       2    14\n",
              "1851435      14     8\n",
              "\n",
              "[1851436 rows x 2 columns]"
            ],
            "text/html": [
              "\n",
              "  <div id=\"df-3e65b5ba-f311-41f2-89a6-4ff8e0ed3277\" class=\"colab-df-container\">\n",
              "    <div>\n",
              "<style scoped>\n",
              "    .dataframe tbody tr th:only-of-type {\n",
              "        vertical-align: middle;\n",
              "    }\n",
              "\n",
              "    .dataframe tbody tr th {\n",
              "        vertical-align: top;\n",
              "    }\n",
              "\n",
              "    .dataframe thead th {\n",
              "        text-align: right;\n",
              "    }\n",
              "</style>\n",
              "<table border=\"1\" class=\"dataframe\">\n",
              "  <thead>\n",
              "    <tr style=\"text-align: right;\">\n",
              "      <th></th>\n",
              "      <th>Origin</th>\n",
              "      <th>Dest</th>\n",
              "    </tr>\n",
              "  </thead>\n",
              "  <tbody>\n",
              "    <tr>\n",
              "      <th>0</th>\n",
              "      <td>13</td>\n",
              "      <td>6</td>\n",
              "    </tr>\n",
              "    <tr>\n",
              "      <th>1</th>\n",
              "      <td>13</td>\n",
              "      <td>12</td>\n",
              "    </tr>\n",
              "    <tr>\n",
              "      <th>2</th>\n",
              "      <td>13</td>\n",
              "      <td>2</td>\n",
              "    </tr>\n",
              "    <tr>\n",
              "      <th>3</th>\n",
              "      <td>13</td>\n",
              "      <td>5</td>\n",
              "    </tr>\n",
              "    <tr>\n",
              "      <th>4</th>\n",
              "      <td>13</td>\n",
              "      <td>0</td>\n",
              "    </tr>\n",
              "    <tr>\n",
              "      <th>...</th>\n",
              "      <td>...</td>\n",
              "      <td>...</td>\n",
              "    </tr>\n",
              "    <tr>\n",
              "      <th>1851431</th>\n",
              "      <td>12</td>\n",
              "      <td>8</td>\n",
              "    </tr>\n",
              "    <tr>\n",
              "      <th>1851432</th>\n",
              "      <td>12</td>\n",
              "      <td>13</td>\n",
              "    </tr>\n",
              "    <tr>\n",
              "      <th>1851433</th>\n",
              "      <td>12</td>\n",
              "      <td>14</td>\n",
              "    </tr>\n",
              "    <tr>\n",
              "      <th>1851434</th>\n",
              "      <td>2</td>\n",
              "      <td>14</td>\n",
              "    </tr>\n",
              "    <tr>\n",
              "      <th>1851435</th>\n",
              "      <td>14</td>\n",
              "      <td>8</td>\n",
              "    </tr>\n",
              "  </tbody>\n",
              "</table>\n",
              "<p>1851436 rows × 2 columns</p>\n",
              "</div>\n",
              "    <div class=\"colab-df-buttons\">\n",
              "\n",
              "  <div class=\"colab-df-container\">\n",
              "    <button class=\"colab-df-convert\" onclick=\"convertToInteractive('df-3e65b5ba-f311-41f2-89a6-4ff8e0ed3277')\"\n",
              "            title=\"Convert this dataframe to an interactive table.\"\n",
              "            style=\"display:none;\">\n",
              "\n",
              "  <svg xmlns=\"http://www.w3.org/2000/svg\" height=\"24px\" viewBox=\"0 -960 960 960\">\n",
              "    <path d=\"M120-120v-720h720v720H120Zm60-500h600v-160H180v160Zm220 220h160v-160H400v160Zm0 220h160v-160H400v160ZM180-400h160v-160H180v160Zm440 0h160v-160H620v160ZM180-180h160v-160H180v160Zm440 0h160v-160H620v160Z\"/>\n",
              "  </svg>\n",
              "    </button>\n",
              "\n",
              "  <style>\n",
              "    .colab-df-container {\n",
              "      display:flex;\n",
              "      gap: 12px;\n",
              "    }\n",
              "\n",
              "    .colab-df-convert {\n",
              "      background-color: #E8F0FE;\n",
              "      border: none;\n",
              "      border-radius: 50%;\n",
              "      cursor: pointer;\n",
              "      display: none;\n",
              "      fill: #1967D2;\n",
              "      height: 32px;\n",
              "      padding: 0 0 0 0;\n",
              "      width: 32px;\n",
              "    }\n",
              "\n",
              "    .colab-df-convert:hover {\n",
              "      background-color: #E2EBFA;\n",
              "      box-shadow: 0px 1px 2px rgba(60, 64, 67, 0.3), 0px 1px 3px 1px rgba(60, 64, 67, 0.15);\n",
              "      fill: #174EA6;\n",
              "    }\n",
              "\n",
              "    .colab-df-buttons div {\n",
              "      margin-bottom: 4px;\n",
              "    }\n",
              "\n",
              "    [theme=dark] .colab-df-convert {\n",
              "      background-color: #3B4455;\n",
              "      fill: #D2E3FC;\n",
              "    }\n",
              "\n",
              "    [theme=dark] .colab-df-convert:hover {\n",
              "      background-color: #434B5C;\n",
              "      box-shadow: 0px 1px 3px 1px rgba(0, 0, 0, 0.15);\n",
              "      filter: drop-shadow(0px 1px 2px rgba(0, 0, 0, 0.3));\n",
              "      fill: #FFFFFF;\n",
              "    }\n",
              "  </style>\n",
              "\n",
              "    <script>\n",
              "      const buttonEl =\n",
              "        document.querySelector('#df-3e65b5ba-f311-41f2-89a6-4ff8e0ed3277 button.colab-df-convert');\n",
              "      buttonEl.style.display =\n",
              "        google.colab.kernel.accessAllowed ? 'block' : 'none';\n",
              "\n",
              "      async function convertToInteractive(key) {\n",
              "        const element = document.querySelector('#df-3e65b5ba-f311-41f2-89a6-4ff8e0ed3277');\n",
              "        const dataTable =\n",
              "          await google.colab.kernel.invokeFunction('convertToInteractive',\n",
              "                                                    [key], {});\n",
              "        if (!dataTable) return;\n",
              "\n",
              "        const docLinkHtml = 'Like what you see? Visit the ' +\n",
              "          '<a target=\"_blank\" href=https://colab.research.google.com/notebooks/data_table.ipynb>data table notebook</a>'\n",
              "          + ' to learn more about interactive tables.';\n",
              "        element.innerHTML = '';\n",
              "        dataTable['output_type'] = 'display_data';\n",
              "        await google.colab.output.renderOutput(dataTable, element);\n",
              "        const docLink = document.createElement('div');\n",
              "        docLink.innerHTML = docLinkHtml;\n",
              "        element.appendChild(docLink);\n",
              "      }\n",
              "    </script>\n",
              "  </div>\n",
              "\n",
              "\n",
              "<div id=\"df-228c6937-e8ba-47e8-8575-1e9259a459ea\">\n",
              "  <button class=\"colab-df-quickchart\" onclick=\"quickchart('df-228c6937-e8ba-47e8-8575-1e9259a459ea')\"\n",
              "            title=\"Suggest charts\"\n",
              "            style=\"display:none;\">\n",
              "\n",
              "<svg xmlns=\"http://www.w3.org/2000/svg\" height=\"24px\"viewBox=\"0 0 24 24\"\n",
              "     width=\"24px\">\n",
              "    <g>\n",
              "        <path d=\"M19 3H5c-1.1 0-2 .9-2 2v14c0 1.1.9 2 2 2h14c1.1 0 2-.9 2-2V5c0-1.1-.9-2-2-2zM9 17H7v-7h2v7zm4 0h-2V7h2v10zm4 0h-2v-4h2v4z\"/>\n",
              "    </g>\n",
              "</svg>\n",
              "  </button>\n",
              "\n",
              "<style>\n",
              "  .colab-df-quickchart {\n",
              "      --bg-color: #E8F0FE;\n",
              "      --fill-color: #1967D2;\n",
              "      --hover-bg-color: #E2EBFA;\n",
              "      --hover-fill-color: #174EA6;\n",
              "      --disabled-fill-color: #AAA;\n",
              "      --disabled-bg-color: #DDD;\n",
              "  }\n",
              "\n",
              "  [theme=dark] .colab-df-quickchart {\n",
              "      --bg-color: #3B4455;\n",
              "      --fill-color: #D2E3FC;\n",
              "      --hover-bg-color: #434B5C;\n",
              "      --hover-fill-color: #FFFFFF;\n",
              "      --disabled-bg-color: #3B4455;\n",
              "      --disabled-fill-color: #666;\n",
              "  }\n",
              "\n",
              "  .colab-df-quickchart {\n",
              "    background-color: var(--bg-color);\n",
              "    border: none;\n",
              "    border-radius: 50%;\n",
              "    cursor: pointer;\n",
              "    display: none;\n",
              "    fill: var(--fill-color);\n",
              "    height: 32px;\n",
              "    padding: 0;\n",
              "    width: 32px;\n",
              "  }\n",
              "\n",
              "  .colab-df-quickchart:hover {\n",
              "    background-color: var(--hover-bg-color);\n",
              "    box-shadow: 0 1px 2px rgba(60, 64, 67, 0.3), 0 1px 3px 1px rgba(60, 64, 67, 0.15);\n",
              "    fill: var(--button-hover-fill-color);\n",
              "  }\n",
              "\n",
              "  .colab-df-quickchart-complete:disabled,\n",
              "  .colab-df-quickchart-complete:disabled:hover {\n",
              "    background-color: var(--disabled-bg-color);\n",
              "    fill: var(--disabled-fill-color);\n",
              "    box-shadow: none;\n",
              "  }\n",
              "\n",
              "  .colab-df-spinner {\n",
              "    border: 2px solid var(--fill-color);\n",
              "    border-color: transparent;\n",
              "    border-bottom-color: var(--fill-color);\n",
              "    animation:\n",
              "      spin 1s steps(1) infinite;\n",
              "  }\n",
              "\n",
              "  @keyframes spin {\n",
              "    0% {\n",
              "      border-color: transparent;\n",
              "      border-bottom-color: var(--fill-color);\n",
              "      border-left-color: var(--fill-color);\n",
              "    }\n",
              "    20% {\n",
              "      border-color: transparent;\n",
              "      border-left-color: var(--fill-color);\n",
              "      border-top-color: var(--fill-color);\n",
              "    }\n",
              "    30% {\n",
              "      border-color: transparent;\n",
              "      border-left-color: var(--fill-color);\n",
              "      border-top-color: var(--fill-color);\n",
              "      border-right-color: var(--fill-color);\n",
              "    }\n",
              "    40% {\n",
              "      border-color: transparent;\n",
              "      border-right-color: var(--fill-color);\n",
              "      border-top-color: var(--fill-color);\n",
              "    }\n",
              "    60% {\n",
              "      border-color: transparent;\n",
              "      border-right-color: var(--fill-color);\n",
              "    }\n",
              "    80% {\n",
              "      border-color: transparent;\n",
              "      border-right-color: var(--fill-color);\n",
              "      border-bottom-color: var(--fill-color);\n",
              "    }\n",
              "    90% {\n",
              "      border-color: transparent;\n",
              "      border-bottom-color: var(--fill-color);\n",
              "    }\n",
              "  }\n",
              "</style>\n",
              "\n",
              "  <script>\n",
              "    async function quickchart(key) {\n",
              "      const quickchartButtonEl =\n",
              "        document.querySelector('#' + key + ' button');\n",
              "      quickchartButtonEl.disabled = true;  // To prevent multiple clicks.\n",
              "      quickchartButtonEl.classList.add('colab-df-spinner');\n",
              "      try {\n",
              "        const charts = await google.colab.kernel.invokeFunction(\n",
              "            'suggestCharts', [key], {});\n",
              "      } catch (error) {\n",
              "        console.error('Error during call to suggestCharts:', error);\n",
              "      }\n",
              "      quickchartButtonEl.classList.remove('colab-df-spinner');\n",
              "      quickchartButtonEl.classList.add('colab-df-quickchart-complete');\n",
              "    }\n",
              "    (() => {\n",
              "      let quickchartButtonEl =\n",
              "        document.querySelector('#df-228c6937-e8ba-47e8-8575-1e9259a459ea button');\n",
              "      quickchartButtonEl.style.display =\n",
              "        google.colab.kernel.accessAllowed ? 'block' : 'none';\n",
              "    })();\n",
              "  </script>\n",
              "</div>\n",
              "\n",
              "    </div>\n",
              "  </div>\n"
            ]
          },
          "metadata": {},
          "execution_count": 4
        }
      ]
    },
    {
      "cell_type": "code",
      "source": [
        "# Number of samples/observations/rows is greater than 100,000\n",
        "print(f\"\\nDataset shape: {df.shape}\")\n",
        "features_train, features_test, labels_train, labels_test = train_test_split(features, labels, test_size=0.20, random_state=42)\n",
        "print(f\"features_train shape: {features_train.shape} | features_test shape: {features_test.shape}\")\n",
        "print(f\"labels_train shape: {labels_train.shape} | labels_test shape: {labels_test.shape}\")\n",
        "# print(f\"{features_train.shape[1]} Features: {features_train.columns.to_list()}\")\n",
        "df.to_csv(\"/content/drive/MyDrive/Data/flight_and_weather_encoded.csv\")\n",
        "del df"
      ],
      "metadata": {
        "colab": {
          "base_uri": "https://localhost:8080/"
        },
        "id": "OaXlnX11Rt2I",
        "outputId": "b5972336-f6b5-4e0a-8a4e-1474ec831012"
      },
      "execution_count": null,
      "outputs": [
        {
          "output_type": "stream",
          "name": "stdout",
          "text": [
            "\n",
            "Dataset shape: (1851436, 24)\n",
            "features_train shape: (1481148, 23) | features_test shape: (370288, 23)\n",
            "labels_train shape: (1481148,) | labels_test shape: (370288,)\n"
          ]
        }
      ]
    },
    {
      "cell_type": "markdown",
      "source": [
        "Logistic Regression"
      ],
      "metadata": {
        "id": "GubIQAvhR-vt"
      }
    },
    {
      "cell_type": "code",
      "source": [
        "model = LogisticRegression(n_jobs=-1)\n",
        "model.fit(features_train, labels_train)\n",
        "model_pred = model.predict(features_test)\n",
        "print(classification_report(labels_test, model_pred))\n",
        "del model\n",
        "del model_pred"
      ],
      "metadata": {
        "colab": {
          "base_uri": "https://localhost:8080/"
        },
        "id": "armvpxAgR2Z0",
        "outputId": "88ad89b0-7ce5-4d0b-e826-6d69bc854138"
      },
      "execution_count": null,
      "outputs": [
        {
          "output_type": "stream",
          "name": "stdout",
          "text": [
            "              precision    recall  f1-score   support\n",
            "\n",
            "         0.0       0.92      0.98      0.95    292530\n",
            "         1.0       0.89      0.68      0.77     77758\n",
            "\n",
            "    accuracy                           0.92    370288\n",
            "   macro avg       0.91      0.83      0.86    370288\n",
            "weighted avg       0.91      0.92      0.91    370288\n",
            "\n"
          ]
        }
      ]
    },
    {
      "cell_type": "markdown",
      "source": [
        "Decision Tree Classifier"
      ],
      "metadata": {
        "id": "Raq5RSqoUoru"
      }
    },
    {
      "cell_type": "code",
      "source": [
        "model = DecisionTreeClassifier()\n",
        "model.fit(features_train, labels_train)\n",
        "model_pred = model.predict(features_test)\n",
        "#print(confusion_matrix(labels_test, model_pred))\n",
        "print(classification_report(labels_test, model_pred))\n",
        "del model\n",
        "del model_pred"
      ],
      "metadata": {
        "colab": {
          "base_uri": "https://localhost:8080/"
        },
        "id": "cNOMYhCYR65e",
        "outputId": "25af9146-fae7-41b2-ebdf-ba9181f35af4"
      },
      "execution_count": null,
      "outputs": [
        {
          "output_type": "stream",
          "name": "stdout",
          "text": [
            "              precision    recall  f1-score   support\n",
            "\n",
            "         0.0       0.92      0.91      0.92    292530\n",
            "         1.0       0.68      0.71      0.69     77758\n",
            "\n",
            "    accuracy                           0.87    370288\n",
            "   macro avg       0.80      0.81      0.80    370288\n",
            "weighted avg       0.87      0.87      0.87    370288\n",
            "\n"
          ]
        }
      ]
    },
    {
      "cell_type": "markdown",
      "source": [
        "XGBoost"
      ],
      "metadata": {
        "id": "xOP-fmshU_BG"
      }
    },
    {
      "cell_type": "code",
      "source": [
        "model = GradientBoostingClassifier()\n",
        "model.fit(features_train, labels_train)\n",
        "model_pred = model.predict(features_test)\n",
        "#print(confusion_matrix(labels_test, model_pred))\n",
        "print(classification_report(labels_test, model_pred))\n",
        "del model\n",
        "del model_pred"
      ],
      "metadata": {
        "colab": {
          "base_uri": "https://localhost:8080/"
        },
        "id": "zxrGSx5KUxM0",
        "outputId": "55f4cb4f-8145-4ca7-c1d6-d2c46055370b"
      },
      "execution_count": null,
      "outputs": [
        {
          "output_type": "stream",
          "name": "stdout",
          "text": [
            "              precision    recall  f1-score   support\n",
            "\n",
            "         0.0       0.92      0.98      0.95    292530\n",
            "         1.0       0.90      0.69      0.78     77758\n",
            "\n",
            "    accuracy                           0.92    370288\n",
            "   macro avg       0.91      0.83      0.86    370288\n",
            "weighted avg       0.92      0.92      0.91    370288\n",
            "\n"
          ]
        }
      ]
    },
    {
      "cell_type": "markdown",
      "source": [
        "Random Forest"
      ],
      "metadata": {
        "id": "qQRso_5zVJOk"
      }
    },
    {
      "cell_type": "code",
      "source": [
        "model = RandomForestClassifier(n_jobs=-1)\n",
        "model.fit(features_train, labels_train)\n",
        "model_pred = model.predict(features_test)\n",
        "#print(confusion_matrix(labels_test, model_pred))\n",
        "print(classification_report(labels_test, model_pred))\n",
        "del model\n",
        "del model_pred"
      ],
      "metadata": {
        "colab": {
          "base_uri": "https://localhost:8080/"
        },
        "id": "65BeFGFgVG8S",
        "outputId": "d9075c2e-49fb-4778-c1ff-838a29e7999b"
      },
      "execution_count": null,
      "outputs": [
        {
          "output_type": "stream",
          "name": "stdout",
          "text": [
            "              precision    recall  f1-score   support\n",
            "\n",
            "         0.0       0.93      0.97      0.95    292530\n",
            "         1.0       0.88      0.70      0.78     77758\n",
            "\n",
            "    accuracy                           0.92    370288\n",
            "   macro avg       0.90      0.84      0.87    370288\n",
            "weighted avg       0.92      0.92      0.91    370288\n",
            "\n"
          ]
        }
      ]
    },
    {
      "cell_type": "markdown",
      "source": [
        "Extra Trees Classifier"
      ],
      "metadata": {
        "id": "DfhXw3E5Wa25"
      }
    },
    {
      "cell_type": "code",
      "source": [
        "model = ExtraTreesClassifier(n_jobs=-1)\n",
        "model.fit(features_train, labels_train)\n",
        "model_pred = model.predict(features_test)\n",
        "# print(confusion_matrix(labels_test, model_pred))\n",
        "print(classification_report(labels_test, model_pred))"
      ],
      "metadata": {
        "colab": {
          "base_uri": "https://localhost:8080/"
        },
        "id": "WXlyVBVVVxMt",
        "outputId": "74d7326f-b611-4732-d5a4-7fa29261a545"
      },
      "execution_count": null,
      "outputs": [
        {
          "output_type": "stream",
          "name": "stdout",
          "text": [
            "              precision    recall  f1-score   support\n",
            "\n",
            "         0.0       0.93      0.95      0.94    292530\n",
            "         1.0       0.81      0.74      0.77     77758\n",
            "\n",
            "    accuracy                           0.91    370288\n",
            "   macro avg       0.87      0.84      0.86    370288\n",
            "weighted avg       0.91      0.91      0.91    370288\n",
            "\n"
          ]
        }
      ]
    },
    {
      "cell_type": "code",
      "source": [],
      "metadata": {
        "id": "nYL2CQQ1WioG"
      },
      "execution_count": null,
      "outputs": []
    }
  ]
}