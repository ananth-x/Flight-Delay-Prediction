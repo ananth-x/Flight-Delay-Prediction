{
  "nbformat": 4,
  "nbformat_minor": 0,
  "metadata": {
    "colab": {
      "provenance": []
    },
    "kernelspec": {
      "name": "python3",
      "display_name": "Python 3"
    },
    "language_info": {
      "name": "python"
    }
  },
  "cells": [
    {
      "cell_type": "code",
      "execution_count": null,
      "metadata": {
        "colab": {
          "base_uri": "https://localhost:8080/"
        },
        "id": "6GenRsmNdfbK",
        "outputId": "716b32f5-d400-42f3-f897-b8ff2d3fab5c"
      },
      "outputs": [
        {
          "output_type": "stream",
          "name": "stdout",
          "text": [
            "Mounted at /content/drive\n"
          ]
        }
      ],
      "source": [
        "import pandas as pd\n",
        "import numpy as np\n",
        "import matplotlib\n",
        "import matplotlib.pyplot as plt\n",
        "import seaborn as sns\n",
        "\n",
        "# Store the classifier models to save time\n",
        "import joblib\n",
        "\n",
        "# Preprocessing\n",
        "from sklearn.preprocessing import LabelEncoder\n",
        "from sklearn.model_selection import train_test_split\n",
        "\n",
        "# Classifiers from scikit-learn\n",
        "from sklearn.linear_model import LogisticRegression\n",
        "from sklearn.tree import DecisionTreeClassifier\n",
        "from sklearn.ensemble import GradientBoostingClassifier\n",
        "from sklearn.ensemble import RandomForestClassifier\n",
        "from sklearn.ensemble import ExtraTreesClassifier\n",
        "\n",
        "# Performance metrics\n",
        "from sklearn.metrics import accuracy_score\n",
        "from sklearn.metrics import f1_score\n",
        "from sklearn.metrics import precision_score\n",
        "from sklearn.metrics import recall_score\n",
        "from sklearn.metrics import classification_report\n",
        "from sklearn.metrics import confusion_matrix\n",
        "\n",
        "from sklearn.metrics import roc_curve\n",
        "from sklearn.metrics import roc_auc_score\n",
        "\n",
        "# Imbalanced dataset helpers\n",
        "from imblearn.over_sampling import RandomOverSampler\n",
        "from google.colab import drive\n",
        "drive.mount('/content/drive',force_remount=True)\n",
        "\n",
        "df = pd.read_csv(\"/content/drive/MyDrive/Data/flight_and_weather_encoded.csv\", index_col=0)"
      ]
    },
    {
      "cell_type": "code",
      "source": [
        "# Plotting the percentage of observations that fall under each class\n",
        "# Dataset without handling imbalance\n",
        "ax = df[\"ArrDel15\"].value_counts().sort_values().plot(kind=\"barh\", color=[\"r\", \"g\"])\n",
        "ax.set_axisbelow(True)\n",
        "ax.grid()\n",
        "totals= []\n",
        "for i in ax.patches:\n",
        "    totals.append(i.get_width())\n",
        "total = sum(totals)\n",
        "for i in ax.patches:\n",
        "     ax.text(i.get_width()+.3, i.get_y()+.20,\n",
        "     str(round((i.get_width()/total)*100, 2))+'%',\n",
        "     fontsize=10, color='black')\n",
        "plt.title(\"ArrDel15\", fontsize=20)\n",
        "plt.xlabel(\"Count\", fontsize=14)\n",
        "plt.ylabel(\"Class\", fontsize=14)\n",
        "plt.show()\n",
        "print(df[\"ArrDel15\"].value_counts())\n",
        "fig = ax.get_figure()"
      ],
      "metadata": {
        "colab": {
          "base_uri": "https://localhost:8080/",
          "height": 537
        },
        "id": "Ly4669GpjQeT",
        "outputId": "9a26711d-e993-467e-8930-4547f3f6a31c"
      },
      "execution_count": null,
      "outputs": [
        {
          "output_type": "display_data",
          "data": {
            "text/plain": [
              "<Figure size 640x480 with 1 Axes>"
            ],
            "image/png": "[encoded data removed]"
          },
          "metadata": {}
        },
        {
          "output_type": "stream",
          "name": "stdout",
          "text": [
            "0.0    1463378\n",
            "1.0     388058\n",
            "Name: ArrDel15, dtype: int64\n"
          ]
        }
      ]
    },
    {
      "cell_type": "code",
      "source": [
        "features = df.loc[:, df.columns != \"ArrDel15\"]\n",
        "labels = np.asarray(df[\"ArrDel15\"])\n",
        "# Number of samples/observations/rows is greater than 100,000\n",
        "print(f\"\\nDataset shape: {df.shape}\")\n",
        "features_train, features_test, labels_train, labels_test = train_test_split(features, labels, test_size=0.20, random_state=42)\n",
        "print(f\"features_train shape: {features_train.shape} | features_test shape: {features_test.shape}\")\n",
        "print(f\"labels_train shape: {labels_train.shape} | labels_test shape: {labels_test.shape}\")\n",
        "# print(f\"{features_train.shape[1]} Features: {features_train.columns.to_list()}\")\n",
        "del features\n",
        "del labels"
      ],
      "metadata": {
        "colab": {
          "base_uri": "https://localhost:8080/"
        },
        "id": "3QTPtUkyj71q",
        "outputId": "f04c145d-2b56-46ba-bd46-cf06478b9068"
      },
      "execution_count": null,
      "outputs": [
        {
          "output_type": "stream",
          "name": "stdout",
          "text": [
            "\n",
            "Dataset shape: (1851436, 24)\n",
            "features_train shape: (1481148, 23) | features_test shape: (370288, 23)\n",
            "labels_train shape: (1481148,) | labels_test shape: (370288,)\n"
          ]
        }
      ]
    },
    {
      "cell_type": "code",
      "source": [
        "# Plotting the percentage of observations that fall under each class\n",
        "# Training data without handling imbalance\n",
        "ax = pd.DataFrame(labels_train).value_counts().sort_values().plot(kind=\"barh\", color=[\"r\", \"g\"])\n",
        "ax.set_axisbelow(True)\n",
        "ax.grid()\n",
        "totals= []\n",
        "for i in ax.patches:\n",
        "    totals.append(i.get_width())\n",
        "total = sum(totals)\n",
        "for i in ax.patches:\n",
        "     ax.text(i.get_width()+.3, i.get_y()+.20,\n",
        "     str(round((i.get_width()/total)*100, 2))+'%',\n",
        "     fontsize=10, color='black')\n",
        "plt.title(\"ArrDel15\", fontsize=20)\n",
        "plt.xlabel(\"Count\", fontsize=14)\n",
        "plt.ylabel(\"Class\", fontsize=14)\n",
        "plt.show()\n",
        "print(pd.DataFrame(labels_train).value_counts())\n",
        "fig = ax.get_figure()"
      ],
      "metadata": {
        "colab": {
          "base_uri": "https://localhost:8080/",
          "height": 537
        },
        "id": "2D9SBPpuj90g",
        "outputId": "6e93bf16-b7f1-4209-f7ff-b6444fdf5716"
      },
      "execution_count": null,
      "outputs": [
        {
          "output_type": "display_data",
          "data": {
            "text/plain": [
              "<Figure size 640x480 with 1 Axes>"
            ],
            "image/png": "[encoded data removed]"
          },
          "metadata": {}
        },
        {
          "output_type": "stream",
          "name": "stdout",
          "text": [
            "0.0    1170848\n",
            "1.0     310300\n",
            "dtype: int64\n"
          ]
        }
      ]
    },
    {
      "cell_type": "code",
      "source": [
        "#Random Oversampling\n",
        "ros = RandomOverSampler(random_state=42)\n",
        "features_train, labels_train = ros.fit_resample(features_train, labels_train)"
      ],
      "metadata": {
        "id": "NGqdWS57kGF5"
      },
      "execution_count": null,
      "outputs": []
    },
    {
      "cell_type": "code",
      "source": [
        "#Balancing the Training Data\n",
        "# Plotting the percentage of observations that fall under each class\n",
        "ax = pd.DataFrame(labels_train).value_counts().sort_values().plot(kind=\"barh\", color=[\"r\", \"g\"])\n",
        "ax.set_axisbelow(True)\n",
        "ax.grid()\n",
        "totals= []\n",
        "for i in ax.patches:\n",
        "    totals.append(i.get_width())\n",
        "total = sum(totals)\n",
        "for i in ax.patches:\n",
        "     ax.text(i.get_width()+.3, i.get_y()+.20,\n",
        "     str(round((i.get_width()/total)*100, 2))+'%',\n",
        "     fontsize=10, color='black')\n",
        "plt.title(\"ArrDel15\", fontsize=20)\n",
        "plt.xlabel(\"Count\", fontsize=14)\n",
        "plt.ylabel(\"Class\", fontsize=14)\n",
        "plt.show()\n",
        "print(pd.DataFrame(labels_train).value_counts())\n",
        "fig = ax.get_figure()"
      ],
      "metadata": {
        "colab": {
          "base_uri": "https://localhost:8080/",
          "height": 537
        },
        "id": "sihVvOk5kJ0i",
        "outputId": "7ed2bd8f-a436-4f11-a03a-77b124c11fcf"
      },
      "execution_count": null,
      "outputs": [
        {
          "output_type": "display_data",
          "data": {
            "text/plain": [
              "<Figure size 640x480 with 1 Axes>"
            ],
            "image/png": "[encoded data removed]"
          },
          "metadata": {}
        },
        {
          "output_type": "stream",
          "name": "stdout",
          "text": [
            "0.0    1170848\n",
            "1.0    1170848\n",
            "dtype: int64\n"
          ]
        }
      ]
    },
    {
      "cell_type": "markdown",
      "source": [
        "Logistic Regression"
      ],
      "metadata": {
        "id": "NHEiGxHzkRh7"
      }
    },
    {
      "cell_type": "code",
      "source": [
        "model = LogisticRegression(n_jobs=-1)\n",
        "model.fit(features_train, labels_train)\n",
        "model_pred = model.predict(features_test)\n",
        "# print(confusion_matrix(labels_test, model_pred))\n",
        "print(classification_report(labels_test, model_pred))\n",
        "del model\n",
        "del model_pred"
      ],
      "metadata": {
        "colab": {
          "base_uri": "https://localhost:8080/"
        },
        "id": "8n-gvZzRkOdR",
        "outputId": "bcdf8868-1b82-4fcb-a862-3d6bcbf439c8"
      },
      "execution_count": null,
      "outputs": [
        {
          "output_type": "stream",
          "name": "stdout",
          "text": [
            "              precision    recall  f1-score   support\n",
            "\n",
            "         0.0       0.94      0.93      0.93    292530\n",
            "         1.0       0.74      0.78      0.76     77758\n",
            "\n",
            "    accuracy                           0.90    370288\n",
            "   macro avg       0.84      0.85      0.85    370288\n",
            "weighted avg       0.90      0.90      0.90    370288\n",
            "\n"
          ]
        }
      ]
    },
    {
      "cell_type": "markdown",
      "source": [
        "Decision Tree Classifier"
      ],
      "metadata": {
        "id": "5VFt4werkYgp"
      }
    },
    {
      "cell_type": "code",
      "source": [
        "model = DecisionTreeClassifier()\n",
        "model.fit(features_train, labels_train)\n",
        "model_pred = model.predict(features_test)\n",
        "# print(confusion_matrix(labels_test, model_pred))\n",
        "print(classification_report(labels_test, model_pred))\n",
        "del model\n",
        "del model_pred"
      ],
      "metadata": {
        "colab": {
          "base_uri": "https://localhost:8080/"
        },
        "id": "GiZS_oSIkYAq",
        "outputId": "055d040b-65ff-4e0e-e183-e8cb84836f49"
      },
      "execution_count": null,
      "outputs": [
        {
          "output_type": "stream",
          "name": "stdout",
          "text": [
            "              precision    recall  f1-score   support\n",
            "\n",
            "         0.0       0.92      0.92      0.92    292530\n",
            "         1.0       0.69      0.70      0.70     77758\n",
            "\n",
            "    accuracy                           0.87    370288\n",
            "   macro avg       0.81      0.81      0.81    370288\n",
            "weighted avg       0.87      0.87      0.87    370288\n",
            "\n"
          ]
        }
      ]
    },
    {
      "cell_type": "markdown",
      "source": [
        "Gradient Boosting Classifier"
      ],
      "metadata": {
        "id": "AEKgV47JkivE"
      }
    },
    {
      "cell_type": "code",
      "source": [
        "model = GradientBoostingClassifier()\n",
        "model.fit(features_train, labels_train)\n",
        "model_pred = model.predict(features_test)\n",
        "# print(confusion_matrix(labels_test, model_pred))\n",
        "print(classification_report(labels_test, model_pred))\n",
        "del model\n",
        "del model_pred"
      ],
      "metadata": {
        "colab": {
          "base_uri": "https://localhost:8080/"
        },
        "id": "HSVHVGuskiIz",
        "outputId": "b35d7516-96fa-4541-9464-02992381730c"
      },
      "execution_count": null,
      "outputs": [
        {
          "output_type": "stream",
          "name": "stdout",
          "text": [
            "              precision    recall  f1-score   support\n",
            "\n",
            "         0.0       0.94      0.92      0.93    292530\n",
            "         1.0       0.73      0.79      0.76     77758\n",
            "\n",
            "    accuracy                           0.90    370288\n",
            "   macro avg       0.84      0.86      0.85    370288\n",
            "weighted avg       0.90      0.90      0.90    370288\n",
            "\n"
          ]
        }
      ]
    },
    {
      "cell_type": "markdown",
      "source": [
        "Random Forest"
      ],
      "metadata": {
        "id": "oPxoGufGkuRF"
      }
    },
    {
      "cell_type": "code",
      "source": [
        "model = RandomForestClassifier(n_jobs=-1)\n",
        "model.fit(features_train, labels_train)\n",
        "model_pred = model.predict(features_test)\n",
        "# print(confusion_matrix(labels_test, model_pred))\n",
        "print(classification_report(labels_test, model_pred))\n",
        "del model\n",
        "del model_pred"
      ],
      "metadata": {
        "colab": {
          "base_uri": "https://localhost:8080/"
        },
        "id": "oZmLmDHvkryz",
        "outputId": "71db7a82-6269-456d-de6d-53a7083c5e2c"
      },
      "execution_count": null,
      "outputs": [
        {
          "output_type": "stream",
          "name": "stdout",
          "text": [
            "              precision    recall  f1-score   support\n",
            "\n",
            "         0.0       0.93      0.96      0.94    292530\n",
            "         1.0       0.82      0.74      0.78     77758\n",
            "\n",
            "    accuracy                           0.91    370288\n",
            "   macro avg       0.88      0.85      0.86    370288\n",
            "weighted avg       0.91      0.91      0.91    370288\n",
            "\n"
          ]
        }
      ]
    },
    {
      "cell_type": "markdown",
      "source": [
        "Extra Trees Classifier"
      ],
      "metadata": {
        "id": "PFrv9MuLk19b"
      }
    },
    {
      "cell_type": "code",
      "source": [
        "model = ExtraTreesClassifier(n_jobs=-1)\n",
        "model.fit(features_train, labels_train)\n",
        "model_pred = model.predict(features_test)\n",
        "# print(confusion_matrix(labels_test, model_pred))\n",
        "print(classification_report(labels_test, model_pred))"
      ],
      "metadata": {
        "colab": {
          "base_uri": "https://localhost:8080/"
        },
        "id": "JhXhxENwkz9q",
        "outputId": "c1db2ac7-bc6a-4508-a301-8db76d473807"
      },
      "execution_count": null,
      "outputs": [
        {
          "output_type": "stream",
          "name": "stdout",
          "text": [
            "              precision    recall  f1-score   support\n",
            "\n",
            "         0.0       0.93      0.96      0.94    292530\n",
            "         1.0       0.81      0.73      0.77     77758\n",
            "\n",
            "    accuracy                           0.91    370288\n",
            "   macro avg       0.87      0.84      0.86    370288\n",
            "weighted avg       0.91      0.91      0.91    370288\n",
            "\n"
          ]
        }
      ]
    },
    {
      "cell_type": "code",
      "source": [],
      "metadata": {
        "id": "ucADDJQ1k8ZI"
      },
      "execution_count": null,
      "outputs": []
    }
  ]
}